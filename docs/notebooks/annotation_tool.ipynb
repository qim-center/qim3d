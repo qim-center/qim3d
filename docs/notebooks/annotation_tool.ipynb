{
 "cells": [
  {
   "cell_type": "code",
   "execution_count": null,
   "metadata": {},
   "outputs": [],
   "source": [
    "import qim3d\n",
    "from scipy import ndimage\n",
    "import matplotlib.pyplot as plt\n",
    "qim3d.io.logger.level(\"info\")\n",
    "\n",
    "# Load example image\n",
    "img = qim3d.examples.bone_128x128x128\n",
    "\n",
    "# Start annotation tool\n",
    "interface = qim3d.gui.annotation_tool.Interface()\n",
    "\n",
    "# We can directly pass the image we loaded to the interface\n",
    "#interface.launch()\n",
    "interface.launch(ndimage.zoom(img[0], 3, order=0))"
   ]
  }
 ],
 "metadata": {
  "kernelspec": {
   "display_name": "Python 3 (ipykernel)",
   "language": "python",
   "name": "python3"
  },
  "language_info": {
   "codemirror_mode": {
    "name": "ipython",
    "version": 3
   },
   "file_extension": ".py",
   "mimetype": "text/x-python",
   "name": "python",
   "nbconvert_exporter": "python",
   "pygments_lexer": "ipython3",
   "version": "3.11.5"
  }
 },
 "nbformat": 4,
 "nbformat_minor": 4
}
