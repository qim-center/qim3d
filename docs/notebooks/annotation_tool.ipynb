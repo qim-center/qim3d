{
 "cells": [
  {
   "cell_type": "code",
   "execution_count": 4,
   "metadata": {},
   "outputs": [
    {
     "data": {
      "text/html": [
       "<div><iframe src=\"http://127.0.0.1:7866/\" width=\"100%\" height=\"768\" allow=\"autoplay; camera; microphone; clipboard-read; clipboard-write;\" frameborder=\"0\" allowfullscreen></iframe></div>"
      ],
      "text/plain": [
       "<IPython.core.display.HTML object>"
      ]
     },
     "metadata": {},
     "output_type": "display_data"
    },
    {
     "name": "stderr",
     "output_type": "stream",
     "text": [
      "c:\\Users\\s193396\\AppData\\Local\\miniconda3\\envs\\qim3d\\lib\\site-packages\\gradio\\analytics.py:106: UserWarning: IMPORTANT: You are using gradio version 4.44.0, however version 4.44.1 is available, please upgrade. \n",
      "--------\n",
      "  warnings.warn(\n"
     ]
    }
   ],
   "source": [
    "import qim3d\n",
    "import matplotlib.pyplot as plt\n",
    "\n",
    "# Load example image\n",
    "vol = qim3d.examples.bone_128x128x128\n",
    "\n",
    "# Start annotation tool\n",
    "annotation_tool = qim3d.gui.annotation_tool.Interface()\n",
    "\n",
    "# We can directly pass the image we loaded to the interface\n",
    "app = annotation_tool.launch(vol[0]) # , server_name=\"10.197.104.229\")"
   ]
  },
  {
   "cell_type": "code",
   "execution_count": 5,
   "metadata": {},
   "outputs": [
    {
     "name": "stderr",
     "output_type": "stream",
     "text": [
      "Loaded shape: (128, 128)\n",
      "INFO:qim3d:Loaded shape: (128, 128)\n",
      "Volume using 16.0 KB of memory\n",
      "\n",
      "INFO:qim3d:Volume using 16.0 KB of memory\n",
      "\n",
      "System memory:\n",
      " • Total.: 31.6 GB\n",
      " • Used..: 18.0 GB (56.8%)\n",
      " • Free..: 13.7 GB (43.2%)\n",
      "INFO:qim3d:System memory:\n",
      " • Total.: 31.6 GB\n",
      " • Used..: 18.0 GB (56.8%)\n",
      " • Free..: 13.7 GB (43.2%)\n"
     ]
    },
    {
     "data": {
      "text/plain": [
       "{'mask_red': array([[False, False, False, ..., False, False, False],\n",
       "        [False, False, False, ..., False, False, False],\n",
       "        [False, False, False, ..., False, False, False],\n",
       "        ...,\n",
       "        [False, False, False, ..., False, False, False],\n",
       "        [False, False, False, ..., False, False, False],\n",
       "        [False, False, False, ..., False, False, False]])}"
      ]
     },
     "execution_count": 5,
     "metadata": {},
     "output_type": "execute_result"
    }
   ],
   "source": [
    "annotation_tool.get_result()"
   ]
  },
  {
   "cell_type": "code",
   "execution_count": 6,
   "metadata": {},
   "outputs": [
    {
     "name": "stderr",
     "output_type": "stream",
     "text": [
      "Loaded shape: (128, 128)\n"
     ]
    },
    {
     "name": "stderr",
     "output_type": "stream",
     "text": [
      "INFO:qim3d:Loaded shape: (128, 128)\n",
      "Volume using 16.0 KB of memory\n",
      "\n",
      "INFO:qim3d:Volume using 16.0 KB of memory\n",
      "\n",
      "System memory:\n",
      " • Total.: 31.6 GB\n",
      " • Used..: 17.9 GB (56.7%)\n",
      " • Free..: 13.7 GB (43.3%)\n",
      "INFO:qim3d:System memory:\n",
      " • Total.: 31.6 GB\n",
      " • Used..: 17.9 GB (56.7%)\n",
      " • Free..: 13.7 GB (43.3%)\n"
     ]
    },
    {
     "data": {
      "image/png": "[encoded data removed]",
      "text/plain": [
       "<Figure size 800x300 with 1 Axes>"
      ]
     },
     "metadata": {},
     "output_type": "display_data"
    }
   ],
   "source": [
    "%matplotlib inline\n",
    "import matplotlib.pyplot as plt\n",
    "from IPython.display import clear_output\n",
    "import numpy as np\n",
    "import time\n",
    "\n",
    "\n",
    "clear_output(wait=True)    \n",
    "masks_dict = annotation_tool.get_result()\n",
    "if len(masks_dict) == 0:\n",
    "    masks_dict[\"No mask\"] = np.zeros((32,32))\n",
    "\n",
    "fig, axs = plt.subplots(1, len(masks_dict), figsize=(8,3))\n",
    "\n",
    "if len(masks_dict) == 1:\n",
    "    axs = [axs]\n",
    "for idx, (name, mask) in enumerate(masks_dict.items()):\n",
    "\n",
    "    axs[idx].imshow(mask, cmap='gray', interpolation='none')\n",
    "    axs[idx].set_title(name)\n",
    "    axs[idx].axis('off')\n",
    "\n",
    "plt.tight_layout()\n",
    "\n",
    "\n",
    "plt.show()\n",
    "time.sleep(2)"
   ]
  }
 ],
 "metadata": {
  "kernelspec": {
   "display_name": "qim3d",
   "language": "python",
   "name": "python3"
  },
  "language_info": {
   "codemirror_mode": {
    "name": "ipython",
    "version": 3
   },
   "file_extension": ".py",
   "mimetype": "text/x-python",
   "name": "python",
   "nbconvert_exporter": "python",
   "pygments_lexer": "ipython3",
   "version": "3.10.14"
  }
 },
 "nbformat": 4,
 "nbformat_minor": 4
}
