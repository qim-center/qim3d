{
 "cells": [
  {
   "cell_type": "code",
   "execution_count": 1,
   "id": "b88821d2",
   "metadata": {},
   "outputs": [],
   "source": [
    "import qim3d.utils\n",
    "from qim3d.utils import log"
   ]
  },
  {
   "cell_type": "markdown",
   "id": "ae2a75fe",
   "metadata": {},
   "source": [
    "# Logging system for qim3d\n",
    "\n",
    "Using proper logging instead of print statements is a recommended practice.\n",
    "\n",
    "While print statements can be helpful for quick debugging, logging provides a more powerful and versatile approach. Logging allows for better control over output, with options to configure log levels, filter messages, and redirect output to different destinations. \n"
   ]
  },
  {
   "cell_type": "markdown",
   "id": "de1b6742",
   "metadata": {},
   "source": [
    "Here we test by sending one message for each level. Note that debug logs are not shown here."
   ]
  },
  {
   "cell_type": "code",
   "execution_count": 2,
   "id": "94022824",
   "metadata": {},
   "outputs": [
    {
     "name": "stderr",
     "output_type": "stream",
     "text": [
      "info level message\n",
      "warning level message\n",
      "error level message\n",
      "critical level message\n"
     ]
    }
   ],
   "source": [
    "log.debug('debug level message')\n",
    "log.info('info level message')\n",
    "log.warning('warning level message')\n",
    "log.error('error level message')\n",
    "log.critical('critical level message')"
   ]
  },
  {
   "cell_type": "markdown",
   "id": "baf2e0a9",
   "metadata": {},
   "source": [
    "We can then change the level of the logger to `debug` to see all outputs."
   ]
  },
  {
   "cell_type": "code",
   "execution_count": 3,
   "id": "b0856333",
   "metadata": {},
   "outputs": [
    {
     "name": "stderr",
     "output_type": "stream",
     "text": [
      "debug level message\n",
      "info level message\n",
      "warning level message\n",
      "error level message\n",
      "critical level message\n"
     ]
    }
   ],
   "source": [
    "qim3d.utils.level(\"debug\")\n",
    "\n",
    "# Now all the levels get logged\n",
    "log.debug('debug level message')\n",
    "log.info('info level message')\n",
    "log.warning('warning level message')\n",
    "log.error('error level message')\n",
    "log.critical('critical level message')"
   ]
  },
  {
   "cell_type": "markdown",
   "id": "96ca7f63",
   "metadata": {},
   "source": [
    "We can even change the level of the logger to `error`. Here only eror level and critical logs are displayed."
   ]
  },
  {
   "cell_type": "code",
   "execution_count": 4,
   "id": "eb542404",
   "metadata": {},
   "outputs": [
    {
     "name": "stderr",
     "output_type": "stream",
     "text": [
      "error level message\n",
      "critical level message\n"
     ]
    }
   ],
   "source": [
    "qim3d.utils.level(\"error\")\n",
    "\n",
    "# And now only above ERROR is shown\n",
    "log.debug('debug level message')\n",
    "log.info('info level message')\n",
    "log.warning('warning level message')\n",
    "log.error('error level message')\n",
    "log.critical('critical level message')"
   ]
  },
  {
   "cell_type": "markdown",
   "id": "82be0566",
   "metadata": {},
   "source": [
    "If more detail is required, we can change that as shown below. Note that the logging level remains, in this case only showing errors and critical messages."
   ]
  },
  {
   "cell_type": "code",
   "execution_count": 5,
   "id": "af3cc812",
   "metadata": {},
   "outputs": [
    {
     "name": "stderr",
     "output_type": "stream",
     "text": [
      "ERROR     2248460306.py:6    error level message\n",
      "error level message\n",
      "CRITICAL  2248460306.py:7    critical level message\n",
      "critical level message\n"
     ]
    }
   ],
   "source": [
    "qim3d.utils.set_detailed_output()\n",
    "\n",
    "log.debug('debug level message')\n",
    "log.info('info level message')\n",
    "log.warning('warning level message')\n",
    "log.error('error level message')\n",
    "log.critical('critical level message')"
   ]
  },
  {
   "cell_type": "markdown",
   "id": "be1d6754",
   "metadata": {},
   "source": [
    "To switch back use the `set_simple_output` method"
   ]
  },
  {
   "cell_type": "code",
   "execution_count": 6,
   "id": "d7239b1b",
   "metadata": {},
   "outputs": [
    {
     "name": "stderr",
     "output_type": "stream",
     "text": [
      "ERROR     3369752651.py:7    error level message\n",
      "error level message\n",
      "CRITICAL  3369752651.py:8    critical level message\n",
      "critical level message\n"
     ]
    }
   ],
   "source": [
    "qim3d.utils.set_simple_output()\n",
    "\n",
    "# Now we see all the levels on simple mode\n",
    "log.debug('debug level message')\n",
    "log.info('info level message')\n",
    "log.warning('warning level message')\n",
    "log.error('error level message')\n",
    "log.critical('critical level message')"
   ]
  },
  {
   "cell_type": "markdown",
   "id": "8dd5e121",
   "metadata": {},
   "source": [
    "Lastly, an example to change it back to both detailed and `debug` level:"
   ]
  },
  {
   "cell_type": "code",
   "execution_count": 7,
   "id": "eaceb5b6",
   "metadata": {},
   "outputs": [
    {
     "name": "stderr",
     "output_type": "stream",
     "text": [
      "DEBUG     3407107515.py:4    debug level message\n",
      "debug level message\n",
      "INFO      3407107515.py:5    info level message\n",
      "info level message\n",
      "WARNING   3407107515.py:6    warning level message\n",
      "warning level message\n",
      "ERROR     3407107515.py:7    error level message\n",
      "error level message\n",
      "CRITICAL  3407107515.py:8    critical level message\n",
      "critical level message\n"
     ]
    }
   ],
   "source": [
    "qim3d.utils.set_detailed_output()\n",
    "qim3d.utils.level(\"debug\")\n",
    "\n",
    "log.debug('debug level message')\n",
    "log.info('info level message')\n",
    "log.warning('warning level message')\n",
    "log.error('error level message')\n",
    "log.critical('critical level message')"
   ]
  }
 ],
 "metadata": {
  "kernelspec": {
   "display_name": "qim3d-env",
   "language": "python",
   "name": "python3"
  },
  "language_info": {
   "codemirror_mode": {
    "name": "ipython",
    "version": 3
   },
   "file_extension": ".py",
   "mimetype": "text/x-python",
   "name": "python",
   "nbconvert_exporter": "python",
   "pygments_lexer": "ipython3",
   "version": "3.11.10"
  }
 },
 "nbformat": 4,
 "nbformat_minor": 5
}
