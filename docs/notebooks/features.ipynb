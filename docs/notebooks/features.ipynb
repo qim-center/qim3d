{
 "cells": [
  {
   "cell_type": "markdown",
   "metadata": {},
   "source": [
    "## Features and mesh notebook\n",
    "This notebook will demonstrate how to extract features from a volumetric object. Since these operations treat the volume as a mesh, we will also explore the use of the volume as a mesh, both visualizing and saving the object.\n",
    "\n",
    "First, we can generate an object using the `generate` module, and explore the shape using the `volumetric` method from the `viz` module:"
   ]
  },
  {
   "cell_type": "code",
   "execution_count": 1,
   "metadata": {},
   "outputs": [
    {
     "data": {
      "application/vnd.jupyter.widget-view+json": {
       "model_id": "472cc770f15247fb8477df638e652bc9",
       "version_major": 2,
       "version_minor": 0
      },
      "text/plain": [
       "Output()"
      ]
     },
     "metadata": {},
     "output_type": "display_data"
    }
   ],
   "source": [
    "import qim3d\n",
    "\n",
    "vol = qim3d.generate.noise_object(\n",
    "    base_shape = (128, 128, 128),\n",
    "    final_shape= (128, 128, 128),\n",
    "    noise_scale= 0.00,\n",
    "    gamma= 1.0,\n",
    "    max_value= 255,\n",
    "    threshold= 0.5,\n",
    "    object_shape = 'cylinder'\n",
    ")\n",
    "\n",
    "qim3d.viz.volumetric(vol)"
   ]
  },
  {
   "cell_type": "markdown",
   "metadata": {},
   "source": [
    "Now, that we have generated a volume of a ball, we can extract some features from it using the `features` module:"
   ]
  },
  {
   "cell_type": "code",
   "execution_count": 10,
   "metadata": {},
   "outputs": [
    {
     "name": "stdout",
     "output_type": "stream",
     "text": [
      "Area: 42597.44460846406. \n",
      "Volume: 729161.3333333334. \n",
      "Sphericity: 0.919707365529198.\n"
     ]
    }
   ],
   "source": [
    "area = qim3d.features.area(vol, print_logs=False)\n",
    "volume = qim3d.features.volume(vol, print_logs=False)\n",
    "sphericity = qim3d.features.sphericity(vol, print_logs=False)\n",
    "\n",
    "print(f\"Area: {area}. \\nVolume: {volume}. \\nSphericity: {sphericity}.\")"
   ]
  },
  {
   "cell_type": "markdown",
   "metadata": {},
   "source": [
    "As we can see in the output logs, the volume is converted to a mesh, after which it's features are calculated. We can also transform the volume to a mesh first, followed by visualization and feature extraction: "
   ]
  },
  {
   "cell_type": "code",
   "execution_count": 4,
   "metadata": {},
   "outputs": [
    {
     "data": {
      "application/vnd.jupyter.widget-view+json": {
       "model_id": "3b369f7251164d0db55703eafe6d8a6c",
       "version_major": 2,
       "version_minor": 0
      },
      "text/plain": [
       "Output()"
      ]
     },
     "metadata": {},
     "output_type": "display_data"
    }
   ],
   "source": [
    "mesh = qim3d.mesh.from_volume(vol, print_logs=False)\n",
    "\n",
    "qim3d.viz.mesh(mesh.vertices, mesh.faces, wireframe=True)"
   ]
  },
  {
   "cell_type": "code",
   "execution_count": 8,
   "metadata": {},
   "outputs": [
    {
     "name": "stdout",
     "output_type": "stream",
     "text": [
      "Mesh area: 42597.44460846406. \n",
      "Mesh volume: 729161.3333333334. \n",
      "Mesh sphericity: 0.919707365529198.\n"
     ]
    }
   ],
   "source": [
    "area_mesh = qim3d.features.area(mesh)\n",
    "volume_mesh = qim3d.features.volume(mesh)\n",
    "sphericity_mesh = qim3d.features.sphericity(mesh)\n",
    "\n",
    "print(f\"Mesh area: {area_mesh}. \\nMesh volume: {volume_mesh}. \\nMesh sphericity: {sphericity_mesh}.\")"
   ]
  },
  {
   "cell_type": "markdown",
   "metadata": {},
   "source": [
    "After having created the mesh and found features of the mesh, we can save it, such that it can be visualized in other programs or reused at a later point:"
   ]
  },
  {
   "cell_type": "code",
   "execution_count": 7,
   "metadata": {},
   "outputs": [],
   "source": [
    "qim3d.io.save_mesh('circular_mesh.obj', mesh)"
   ]
  },
  {
   "cell_type": "markdown",
   "metadata": {},
   "source": [
    "Should we wish to use it, it can be imported using:"
   ]
  },
  {
   "cell_type": "code",
   "execution_count": 8,
   "metadata": {},
   "outputs": [],
   "source": [
    "mesh = qim3d.io.load_mesh('circular_mesh.obj')"
   ]
  }
 ],
 "metadata": {
  "kernelspec": {
   "display_name": "qim3d-env",
   "language": "python",
   "name": "python3"
  },
  "language_info": {
   "codemirror_mode": {
    "name": "ipython",
    "version": 3
   },
   "file_extension": ".py",
   "mimetype": "text/x-python",
   "name": "python",
   "nbconvert_exporter": "python",
   "pygments_lexer": "ipython3",
   "version": "3.11.10"
  }
 },
 "nbformat": 4,
 "nbformat_minor": 2
}
