{
 "cells": [
  {
   "cell_type": "markdown",
   "metadata": {},
   "source": [
    "## OME-Zarr notebook\n",
    "\n",
    "This notebook will demonstrate the `qim3d` functionalities that specifically target the OME-Zarr file format.\n",
    "\n",
    "OME-Zarr is a cloud-native, multi-dimensional file format optimized for storing and analyzing large-scale volumetric imaging data. It leverages the Zarr storage framework, which organizes data in a chunked, hierarchical structure, enabling efficient random access to specific regions without loading entire datasets into memory. The format supports multi-resolution storage, allowing visualization and analysis at different levels of detail, improving performance for large datasets. OME-Zarr stores metadata in JSON format following the Open Microscopy Environment (OME) model, ensuring interoperability across a wide range of bioimaging tools. Additionally, its compatibility with modern data science libraries like Dask and Xarray allows for scalable parallel processing, making it an ideal choice for applications in microscopy, medical imaging, and machine learning.\n",
    "\n",
    "First we will fetch a large data file, which we can save to the OME-Zarr file type. Here we will use the `io.Downloader` class. First we define the variable, and then we evaluate what data we would like to download, by visualizing the options with the 'help' command."
   ]
  },
  {
   "cell_type": "code",
   "execution_count": 1,
   "metadata": {},
   "outputs": [
    {
     "name": "stdout",
     "output_type": "stream",
     "text": [
      "Help on Downloader in module qim3d.io._downloader object:\n",
      "\n",
      "class Downloader(builtins.object)\n",
      " |  Class for downloading large data files available on the [QIM data repository](https://data.qim.dk/).\n",
      " |  \n",
      " |  Attributes:\n",
      " |      folder_name (str or os.PathLike): Folder class with the name of the folder in <https://data.qim.dk/>\n",
      " |  \n",
      " |  Syntax for downloading and loading a file is `qim3d.io.Downloader().{folder_name}.{file_name}(load_file=True)`\n",
      " |  \n",
      " |  ??? info \"Overview of available data\"\n",
      " |      Below is a table of the available folders and files on the [QIM data repository](https://data.qim.dk/).\n",
      " |  \n",
      " |      Folder name         | File name                                                                                                          | File size\n",
      " |      ------------------- | ------------------------------------------------------------------------------------------------------------------ | ---------------------------------------------\n",
      " |      `Coal`              | `CoalBrikett` <br> `CoalBrikett_Zoom` <br> `CoalBrikettZoom_DOWNSAMPLED`                                           | 2.23 GB <br> 3.72 GB <br> 238 MB\n",
      " |      `Corals`            | `Coral_1` <br> `Coral_2` <br> `Coral2_DOWNSAMPLED` <br> `MexCoral`                                                 | 2.26 GB <br> 2.38 GB <br> 162 MB <br> 2.23 GB\n",
      " |      `Cowry_Shell`       | `Cowry_Shell` <br> `Cowry_DOWNSAMPLED`                                                                             | 1.82 GB <br> 116 MB\n",
      " |      `Crab`              | `HerrmitCrab` <br> `OkinawaCrab`                                                                                   | 2.38 GB <br> 1.86 GB\n",
      " |      `Deer_Mandible`     | `Animal_Mandible` <br> `DeerMandible_DOWNSAMPLED` <br>                                                             | 2.79 GB <br> 638 MB\n",
      " |      `Foam`              | `Foam` <br> `Foam_DOWNSAMPLED` <br> `Foam_2` <br> `Foam_2_zoom`                                                    | 3.72 GB <br> 238 MB <br> 3.72 GB <br> 3.72 GB\n",
      " |      `Hourglass`         | `Hourglass` <br> `Hourglass_4X_80kV_Air_9s_1_97um` <br> `Hourglass_longexp_rerun`                                  | 3.72 GB <br> 1.83 GB <br> 3.72 GB\n",
      " |      `Kiwi`              | `Kiwi`                                                                                                             | 2.86 GB\n",
      " |      `Loofah`            | `Loofah` <br> `Loofah_DOWNSAMPLED`                                                                                 | 2.23 GB <br> 143 MB\n",
      " |      `Marine_Gastropods` | `MarineGatropod_1` <br> `MarineGastropod1_DOWNSAMPLED` <br> `MarineGatropod_2` <br> `MarineGastropod2_DOWNSAMPLED` | 2.23 GB <br> 143 MB <br> 2.60 GB <br> 166 MB\n",
      " |      `Mussel`            | `ClosedMussel1` <br> `ClosedMussel1_DOWNSAMPLED`                                                                   | 2.23 GB <br> 143 MB\n",
      " |      `Oak_Branch`        | `Oak_branch` <br> `OakBranch_DOWNSAMPLED`                                                                          | 2.38 GB <br> 152 MB\n",
      " |      `Okinawa_Forams`    | `Okinawa_Foram_1` <br> `Okinawa_Foram_2`                                                                           | 1.84 GB <br> 1.84 GB\n",
      " |      `Physalis`          | `Physalis` <br> `Physalis_DOWNSAMPLED`                                                                             | 3.72 GB <br> 238 MB\n",
      " |      `Raspberry`         | `Raspberry2` <br> `Raspberry2_DOWNSAMPLED`                                                                         | 2.97 GB <br> 190 MB\n",
      " |      `Rope`              | `FibreRope1` <br> `FibreRope1_DOWNSAMPLED`                                                                         | 1.82 GB <br> 686 MB\n",
      " |      `Sea_Urchin`        | `SeaUrchin` <br> `Cordatum_Shell` <br> `Cordatum_Spine`                                                            | 2.60 GB <br> 1.85 GB <br> 183 MB\n",
      " |      `Snail`             | `Escargot`                                                                                                         | 2.60 GB\n",
      " |      `Sponge`            | `Sponge`                                                                                                           | 1.11 GB\n",
      " |  \n",
      " |  Example:\n",
      " |      ```python\n",
      " |      import qim3d\n",
      " |      \n",
      " |      downloader = qim3d.io.Downloader()\n",
      " |      data = downloader.Cowry_Shell.Cowry_DOWNSAMPLED(load_file=True)\n",
      " |  \n",
      " |      qim3d.viz.slicer_orthogonal(data, color_map=\"magma\")\n",
      " |      ```\n",
      " |      ![cowry shell](../../assets/screenshots/cowry_shell_slicer.gif)\n",
      " |  \n",
      " |  Methods defined here:\n",
      " |  \n",
      " |  __init__(self)\n",
      " |      Initialize self.  See help(type(self)) for accurate signature.\n",
      " |  \n",
      " |  ----------------------------------------------------------------------\n",
      " |  Data descriptors defined here:\n",
      " |  \n",
      " |  __dict__\n",
      " |      dictionary for instance variables\n",
      " |  \n",
      " |  __weakref__\n",
      " |      list of weak references to the object\n",
      "\n"
     ]
    }
   ],
   "source": [
    "import qim3d\n",
    "\n",
    "downloader = qim3d.io.Downloader()\n",
    "\n",
    "help(downloader)"
   ]
  },
  {
   "cell_type": "markdown",
   "metadata": {},
   "source": [
    "After deciding to use the okinawa crab volume, we fetch the data. We use the 'load_file' argument to load it while downloading it. Additionally, we can use the vizualisation tool `slicer_orthogonal` too explore the volume from three different axes."
   ]
  },
  {
   "cell_type": "code",
   "execution_count": 9,
   "metadata": {},
   "outputs": [
    {
     "name": "stderr",
     "output_type": "stream",
     "text": [
      "File already downloaded:\n",
      "/home/s214735/qim3d/docs/notebooks/Crab/OkinawaCrab.tif\n",
      "\n",
      "Loading OkinawaCrab.tif\n"
     ]
    },
    {
     "data": {
      "application/vnd.jupyter.widget-view+json": {
       "model_id": "c8510c263d2842e39e5067531823f451",
       "version_major": 2,
       "version_minor": 0
      },
      "text/plain": [
       "Loading:   0%|          | 0.00B/1.86GB  [00:00<?, ?B/s]"
      ]
     },
     "metadata": {},
     "output_type": "display_data"
    },
    {
     "name": "stderr",
     "output_type": "stream",
     "text": [
      "Loaded shape: (995, 1014, 992)\n",
      "Using virtual stack\n"
     ]
    }
   ],
   "source": [
    "vol = downloader.Crab.OkinawaCrab(load_file=True)"
   ]
  },
  {
   "cell_type": "markdown",
   "metadata": {},
   "source": [
    "Attempting to visualize the volume in a three-dimensional space will require a lot of computing power due to the size of the volume. However using the OME-Zarr data type, we can visualize it in chunks. Additionally we can save it in the .zarr format.\n",
    "\n",
    "First we export the file using the `export_ome_zarr` method. We set the downsample rate to 3, such that we have different scales of the volume."
   ]
  },
  {
   "cell_type": "code",
   "execution_count": 3,
   "metadata": {},
   "outputs": [
    {
     "name": "stderr",
     "output_type": "stream",
     "text": [
      "Exporting data to OME-Zarr format at crab.zarr\n",
      "Number of scales: 3\n",
      "Calculating the multi-scale pyramid\n",
      "- Scale 0: (995, 1014, 992)\n",
      "- Scale 1: (332, 338, 331)\n",
      "- Scale 2: (111, 113, 110)\n",
      "Writing data to disk\n"
     ]
    },
    {
     "data": {
      "application/vnd.jupyter.widget-view+json": {
       "model_id": "c1e38c07b2d14b9b81f653dd085f157c",
       "version_major": 2,
       "version_minor": 0
      },
      "text/plain": [
       "Saving:   0%|          | 0.00/1.08k [00:00<?, ?Chunks/s]"
      ]
     },
     "metadata": {},
     "output_type": "display_data"
    },
    {
     "name": "stderr",
     "output_type": "stream",
     "text": [
      "\n",
      "All done!\n"
     ]
    }
   ],
   "source": [
    "qim3d.io.export_ome_zarr(\n",
    "    'crab.zarr',\n",
    "    vol,\n",
    "    downsample_rate=3,\n",
    "    replace=True)"
   ]
  },
  {
   "cell_type": "markdown",
   "metadata": {},
   "source": [
    "We can then use the `chunks` method to visualize the chunks from the volume. Here we have both options for exploring the volume slices or the entire 3D object. Additionally we can change the view dimension and the scale of the volume."
   ]
  },
  {
   "cell_type": "code",
   "execution_count": 4,
   "metadata": {},
   "outputs": [
    {
     "data": {
      "application/vnd.jupyter.widget-view+json": {
       "model_id": "36481522fd0b444c9940c1c028596544",
       "version_major": 2,
       "version_minor": 0
      },
      "text/plain": [
       "VBox(children=(HTML(value='<h2>Chunk Explorer</h2>'), HBox(children=(VBox(children=(Dropdown(description='OME-…"
      ]
     },
     "metadata": {},
     "output_type": "display_data"
    }
   ],
   "source": [
    "qim3d.viz.chunks('crab.zarr')"
   ]
  },
  {
   "cell_type": "markdown",
   "metadata": {},
   "source": [
    "If we wish to continue working on a downsampled version of the volume, we can load it back in using `import_ome_zarr`. Here we use the `scale` argument to decide what scale we with to import. By writing 'lowest', we can get the lowest resolution, and by writing 0 or 'highest' we can get the highest resolution. In this case we want the volume at scale 1 along with the highest resolution:"
   ]
  },
  {
   "cell_type": "code",
   "execution_count": 5,
   "metadata": {},
   "outputs": [
    {
     "name": "stderr",
     "output_type": "stream",
     "text": [
      "/home/s214735/miniconda3/envs/qim3d-env/lib/python3.11/site-packages/zarr/creation.py:614: UserWarning: ignoring keyword argument 'read_only'\n",
      "  compressor, fill_value = _kwargs_compat(compressor, fill_value, kwargs)\n",
      "Data contains 3 scales:\n",
      "- Scale 0: (995, 1014, 992)\n",
      "- Scale 1: (332, 338, 331)\n",
      "- Scale 2: (111, 113, 110)\n",
      "\n",
      "Loading scale 1 with shape (332, 338, 331)\n",
      "Data contains 3 scales:\n",
      "- Scale 0: (995, 1014, 992)\n",
      "- Scale 1: (332, 338, 331)\n",
      "- Scale 2: (111, 113, 110)\n",
      "\n",
      "Loading scale 0 with shape (995, 1014, 992)\n"
     ]
    }
   ],
   "source": [
    "vol_lowscale = qim3d.io.import_ome_zarr('crab.zarr', scale=1)\n",
    "vol_highscale = qim3d.io.import_ome_zarr('crab.zarr', scale='highest')"
   ]
  },
  {
   "cell_type": "markdown",
   "metadata": {},
   "source": [
    "Now we can visually inspect the volume at different scales. In this case, we can separate the first 256 voxels:"
   ]
  },
  {
   "cell_type": "code",
   "execution_count": 6,
   "metadata": {},
   "outputs": [],
   "source": [
    "vol_low = vol_lowscale[0:256, 0:256, 0:256]\n",
    "vol_high = vol_highscale[256:512, 256:512, 256:512]"
   ]
  },
  {
   "cell_type": "markdown",
   "metadata": {},
   "source": [
    "Then we can visualize the volume along the three primary axes."
   ]
  },
  {
   "cell_type": "code",
   "execution_count": 7,
   "metadata": {},
   "outputs": [
    {
     "data": {
      "application/vnd.jupyter.widget-view+json": {
       "model_id": "d4bd61011d794f14b4b8487666b2c8ea",
       "version_major": 2,
       "version_minor": 0
      },
      "text/plain": [
       "HBox(children=(interactive(children=(IntSlider(value=128, description='Z', max=255), Output()), _dom_classes=(…"
      ]
     },
     "execution_count": 7,
     "metadata": {},
     "output_type": "execute_result"
    }
   ],
   "source": [
    "qim3d.viz.slicer_orthogonal(vol_low)"
   ]
  },
  {
   "cell_type": "code",
   "execution_count": 8,
   "metadata": {},
   "outputs": [
    {
     "data": {
      "application/vnd.jupyter.widget-view+json": {
       "model_id": "927a9b89fe0f4e3598f6aad61451c254",
       "version_major": 2,
       "version_minor": 0
      },
      "text/plain": [
       "HBox(children=(interactive(children=(IntSlider(value=128, description='Z', max=255), Output()), _dom_classes=(…"
      ]
     },
     "execution_count": 8,
     "metadata": {},
     "output_type": "execute_result"
    }
   ],
   "source": [
    "qim3d.viz.slicer_orthogonal(vol_high)"
   ]
  }
 ],
 "metadata": {
  "kernelspec": {
   "display_name": "qim3d-env",
   "language": "python",
   "name": "python3"
  },
  "language_info": {
   "codemirror_mode": {
    "name": "ipython",
    "version": 3
   },
   "file_extension": ".py",
   "mimetype": "text/x-python",
   "name": "python",
   "nbconvert_exporter": "python",
   "pygments_lexer": "ipython3",
   "version": "3.11.10"
  }
 },
 "nbformat": 4,
 "nbformat_minor": 2
}
