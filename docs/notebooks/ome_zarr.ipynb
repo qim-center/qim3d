{
 "cells": [
  {
   "cell_type": "markdown",
   "metadata": {},
   "source": [
    "## OME-Zarr notebook\n",
    "\n",
    "This notebook will demonstrate the `qim3d` functionalities that specifically target the OME-Zarr file format.\n",
    "\n",
    "OME-Zarr is a cloud-native, multi-dimensional file format optimized for storing and analyzing large-scale volumetric imaging data. It leverages the Zarr storage framework, which organizes data in a chunked, hierarchical structure, enabling efficient random access to specific regions without loading entire datasets into memory. The format supports multi-resolution storage, allowing visualization and analysis at different levels of detail, improving performance for large datasets. OME-Zarr stores metadata in JSON format following the Open Microscopy Environment (OME) model, ensuring interoperability across a wide range of bioimaging tools. Additionally, its compatibility with modern data science libraries like Dask and Xarray allows for scalable parallel processing, making it an ideal choice for applications in microscopy, medical imaging, and machine learning.\n",
    "\n",
    "First we will fetch a large data file, which we can save to the OME-Zarr file type. Here we will use the `io.Downloader` class. First we define the variable, and then we evaluate what data we would like to download, by visualizing the options with the 'help' command."
   ]
  },
  {
   "cell_type": "code",
   "execution_count": 49,
   "metadata": {},
   "outputs": [
    {
     "name": "stdout",
     "output_type": "stream",
     "text": [
      "Help on Downloader in module qim3d.io._downloader object:\n",
      "\n",
      "class Downloader(builtins.object)\n",
      " |  Class for downloading large data files available on the [QIM data repository](https://data.qim.dk/).\n",
      " |  \n",
      " |  Attributes:\n",
      " |      folder_name (str or os.PathLike): Folder class with the name of the folder in <https://data.qim.dk/>\n",
      " |  \n",
      " |  Syntax for downloading and loading a file is `qim3d.io.Downloader().{folder_name}.{file_name}(load_file=True)`\n",
      " |  \n",
      " |  ??? info \"Overview of available data\"\n",
      " |      Below is a table of the available folders and files on the [QIM data repository](https://data.qim.dk/).\n",
      " |  \n",
      " |      Folder name         | File name                                                                                                          | File size\n",
      " |      ------------------- | ------------------------------------------------------------------------------------------------------------------ | ---------------------------------------------\n",
      " |      `Coal`              | `CoalBrikett` <br> `CoalBrikett_Zoom` <br> `CoalBrikettZoom_DOWNSAMPLED`                                           | 2.23 GB <br> 3.72 GB <br> 238 MB\n",
      " |      `Corals`            | `Coral_1` <br> `Coral_2` <br> `Coral2_DOWNSAMPLED` <br> `MexCoral`                                                 | 2.26 GB <br> 2.38 GB <br> 162 MB <br> 2.23 GB\n",
      " |      `Cowry_Shell`       | `Cowry_Shell` <br> `Cowry_DOWNSAMPLED`                                                                             | 1.82 GB <br> 116 MB\n",
      " |      `Crab`              | `HerrmitCrab` <br> `OkinawaCrab`                                                                                   | 2.38 GB <br> 1.86 GB\n",
      " |      `Deer_Mandible`     | `Animal_Mandible` <br> `DeerMandible_DOWNSAMPLED` <br>                                                             | 2.79 GB <br> 638 MB\n",
      " |      `Foam`              | `Foam` <br> `Foam_DOWNSAMPLED` <br> `Foam_2` <br> `Foam_2_zoom`                                                    | 3.72 GB <br> 238 MB <br> 3.72 GB <br> 3.72 GB\n",
      " |      `Hourglass`         | `Hourglass` <br> `Hourglass_4X_80kV_Air_9s_1_97um` <br> `Hourglass_longexp_rerun`                                  | 3.72 GB <br> 1.83 GB <br> 3.72 GB\n",
      " |      `Kiwi`              | `Kiwi`                                                                                                             | 2.86 GB\n",
      " |      `Loofah`            | `Loofah` <br> `Loofah_DOWNSAMPLED`                                                                                 | 2.23 GB <br> 143 MB\n",
      " |      `Marine_Gastropods` | `MarineGatropod_1` <br> `MarineGastropod1_DOWNSAMPLED` <br> `MarineGatropod_2` <br> `MarineGastropod2_DOWNSAMPLED` | 2.23 GB <br> 143 MB <br> 2.60 GB <br> 166 MB\n",
      " |      `Mussel`            | `ClosedMussel1` <br> `ClosedMussel1_DOWNSAMPLED`                                                                   | 2.23 GB <br> 143 MB\n",
      " |      `Oak_Branch`        | `Oak_branch` <br> `OakBranch_DOWNSAMPLED`                                                                          | 2.38 GB <br> 152 MB\n",
      " |      `Okinawa_Forams`    | `Okinawa_Foram_1` <br> `Okinawa_Foram_2`                                                                           | 1.84 GB <br> 1.84 GB\n",
      " |      `Physalis`          | `Physalis` <br> `Physalis_DOWNSAMPLED`                                                                             | 3.72 GB <br> 238 MB\n",
      " |      `Raspberry`         | `Raspberry2` <br> `Raspberry2_DOWNSAMPLED`                                                                         | 2.97 GB <br> 190 MB\n",
      " |      `Rope`              | `FibreRope1` <br> `FibreRope1_DOWNSAMPLED`                                                                         | 1.82 GB <br> 686 MB\n",
      " |      `Sea_Urchin`        | `SeaUrchin` <br> `Cordatum_Shell` <br> `Cordatum_Spine`                                                            | 2.60 GB <br> 1.85 GB <br> 183 MB\n",
      " |      `Snail`             | `Escargot`                                                                                                         | 2.60 GB\n",
      " |      `Sponge`            | `Sponge`                                                                                                           | 1.11 GB\n",
      " |  \n",
      " |  Example:\n",
      " |      ```python\n",
      " |      import qim3d\n",
      " |      \n",
      " |      downloader = qim3d.io.Downloader()\n",
      " |      data = downloader.Cowry_Shell.Cowry_DOWNSAMPLED(load_file=True)\n",
      " |  \n",
      " |      qim3d.viz.slicer_orthogonal(data, color_map=\"magma\")\n",
      " |      ```\n",
      " |      ![cowry shell](assets/screenshots/cowry_shell_slicer.gif)\n",
      " |  \n",
      " |  Methods defined here:\n",
      " |  \n",
      " |  __init__(self)\n",
      " |      Initialize self.  See help(type(self)) for accurate signature.\n",
      " |  \n",
      " |  ----------------------------------------------------------------------\n",
      " |  Data descriptors defined here:\n",
      " |  \n",
      " |  __dict__\n",
      " |      dictionary for instance variables\n",
      " |  \n",
      " |  __weakref__\n",
      " |      list of weak references to the object\n",
      "\n"
     ]
    }
   ],
   "source": [
    "import qim3d\n",
    "\n",
    "downloader = qim3d.io.Downloader()\n",
    "help(downloader)\n"
   ]
  },
  {
   "cell_type": "markdown",
   "metadata": {},
   "source": [
    "After deciding to use the coral data, we fetch the data. We use the 'load_file' argument to load it while downloading it. Additionally, we can use the vizualisation tool `slicer_orthogonal` too explore the volume from three different axes."
   ]
  },
  {
   "cell_type": "code",
   "execution_count": 50,
   "metadata": {},
   "outputs": [
    {
     "name": "stderr",
     "output_type": "stream",
     "text": [
      "File already downloaded:\n",
      "/home/s214735/qim3d/docs/notebooks/Corals/Coral2_DOWNSAMPLED.tif\n",
      "\n",
      "Loading Coral2_DOWNSAMPLED.tif\n"
     ]
    },
    {
     "data": {
      "application/vnd.jupyter.widget-view+json": {
       "model_id": "0745beff9bb54c64bf716f73168629f2",
       "version_major": 2,
       "version_minor": 0
      },
      "text/plain": [
       "Loading:   0%|          | 0.00B/153MB  [00:00<?, ?B/s]"
      ]
     },
     "metadata": {},
     "output_type": "display_data"
    },
    {
     "name": "stderr",
     "output_type": "stream",
     "text": [
      "Loaded shape: (500, 400, 400)\n",
      "Using virtual stack\n"
     ]
    },
    {
     "data": {
      "application/vnd.jupyter.widget-view+json": {
       "model_id": "7179fe74113a4a98a2870334e1216b41",
       "version_major": 2,
       "version_minor": 0
      },
      "text/plain": [
       "HBox(children=(interactive(children=(IntSlider(value=250, description='Z', max=499), Output()), layout=Layout(…"
      ]
     },
     "execution_count": 50,
     "metadata": {},
     "output_type": "execute_result"
    }
   ],
   "source": [
    "vol = downloader.Corals.Coral2_DOWNSAMPLED(load_file=True)\n",
    "\n",
    "qim3d.viz.slicer_orthogonal(vol, color_map=\"magma\")"
   ]
  },
  {
   "cell_type": "markdown",
   "metadata": {},
   "source": [
    "Attempting to visualize the volume in a three-dimensional space will require a lot of computing power due to the size of the volume. However using the OME-Zarr data type, we can visualize it in chunks. Additionally we can save it in the .zarr format.\n",
    "\n",
    "First we export the file using the `export_ome_zarr` method."
   ]
  },
  {
   "cell_type": "code",
   "execution_count": 81,
   "metadata": {},
   "outputs": [
    {
     "name": "stderr",
     "output_type": "stream",
     "text": [
      "Exporting data to OME-Zarr format at coral.zarr\n",
      "Number of scales: 3\n",
      "Calculating the multi-scale pyramid\n",
      "- Scale 0: (500, 400, 400)\n",
      "- Scale 1: (250, 200, 200)\n",
      "- Scale 2: (125, 100, 100)\n",
      "Writing data to disk\n"
     ]
    },
    {
     "data": {
      "application/vnd.jupyter.widget-view+json": {
       "model_id": "2196a3a7db3c4b059d86a9e050608ad2",
       "version_major": 2,
       "version_minor": 0
      },
      "text/plain": [
       "Saving:   0%|          | 0.00/166 [00:00<?, ?Chunks/s]"
      ]
     },
     "metadata": {},
     "output_type": "display_data"
    },
    {
     "name": "stderr",
     "output_type": "stream",
     "text": [
      "\n",
      "All done!\n"
     ]
    }
   ],
   "source": [
    "qim3d.io.export_ome_zarr(\n",
    "    'coral.zarr',\n",
    "    vol,\n",
    "    chunk_size=200,\n",
    "    downsample_rate=2,\n",
    "    replace=True)"
   ]
  },
  {
   "cell_type": "markdown",
   "metadata": {},
   "source": [
    "We can then use the `chunks` method to visualize the chunks from the volume. Here we have both options for exploring the volume slices or the entire 3D object."
   ]
  },
  {
   "cell_type": "code",
   "execution_count": 52,
   "metadata": {},
   "outputs": [
    {
     "data": {
      "application/vnd.jupyter.widget-view+json": {
       "model_id": "2af896bb7a0b453e9de1cc7767265dae",
       "version_major": 2,
       "version_minor": 0
      },
      "text/plain": [
       "VBox(children=(HTML(value='<h2>Chunk Explorer</h2>'), HBox(children=(VBox(children=(Dropdown(description='OME-…"
      ]
     },
     "metadata": {},
     "output_type": "display_data"
    }
   ],
   "source": [
    "qim3d.viz.chunks('coral.zarr')"
   ]
  },
  {
   "cell_type": "markdown",
   "metadata": {},
   "source": [
    "After looking at the object, we see that some of it is obstructed by background noise. Therefore we attempt to remove that with a threshold, followed by another export and visualization of the volume:"
   ]
  },
  {
   "cell_type": "code",
   "execution_count": 82,
   "metadata": {},
   "outputs": [
    {
     "name": "stderr",
     "output_type": "stream",
     "text": [
      "Exporting data to OME-Zarr format at coral_threshold.zarr\n",
      "Number of scales: 3\n",
      "Calculating the multi-scale pyramid\n",
      "- Scale 0: (500, 400, 400)\n",
      "- Scale 1: (250, 200, 200)\n",
      "- Scale 2: (125, 100, 100)\n",
      "Writing data to disk\n"
     ]
    },
    {
     "data": {
      "application/vnd.jupyter.widget-view+json": {
       "model_id": "756f4bb77ec140bd85d3986e20b7942a",
       "version_major": 2,
       "version_minor": 0
      },
      "text/plain": [
       "Saving:   0%|          | 0.00/83.0 [00:00<?, ?Chunks/s]"
      ]
     },
     "metadata": {},
     "output_type": "display_data"
    },
    {
     "name": "stderr",
     "output_type": "stream",
     "text": [
      "\n",
      "All done!\n"
     ]
    },
    {
     "data": {
      "application/vnd.jupyter.widget-view+json": {
       "model_id": "2200dadf1af24cf89fa60d9eefd6c8b2",
       "version_major": 2,
       "version_minor": 0
      },
      "text/plain": [
       "VBox(children=(HTML(value='<h2>Chunk Explorer</h2>'), HBox(children=(VBox(children=(Dropdown(description='OME-…"
      ]
     },
     "metadata": {},
     "output_type": "display_data"
    }
   ],
   "source": [
    "vol_t = vol > 30000\n",
    "\n",
    "qim3d.io.export_ome_zarr(\n",
    "    'coral_threshold.zarr',\n",
    "    vol_t,\n",
    "    chunk_size=200,\n",
    "    downsample_rate=2,\n",
    "    replace=True)\n",
    "\n",
    "qim3d.viz.chunks('coral_threshold.zarr')"
   ]
  },
  {
   "cell_type": "markdown",
   "metadata": {},
   "source": [
    "For next time the volume is to be used, we can import it easily using the `import_ome_zarr` method:"
   ]
  },
  {
   "cell_type": "code",
   "execution_count": 83,
   "metadata": {},
   "outputs": [
    {
     "name": "stderr",
     "output_type": "stream",
     "text": [
      "Data contains 3 scales:\n",
      "- Scale 0: (500, 400, 400)\n",
      "- Scale 1: (250, 200, 200)\n",
      "- Scale 2: (125, 100, 100)\n",
      "\n",
      "Loading scale 0 with shape (500, 400, 400)\n"
     ]
    }
   ],
   "source": [
    "vol_t = qim3d.io.import_ome_zarr('coral_threshold.zarr')"
   ]
  }
 ],
 "metadata": {
  "kernelspec": {
   "display_name": "qim3d-env",
   "language": "python",
   "name": "python3"
  },
  "language_info": {
   "codemirror_mode": {
    "name": "ipython",
    "version": 3
   },
   "file_extension": ".py",
   "mimetype": "text/x-python",
   "name": "python",
   "nbconvert_exporter": "python",
   "pygments_lexer": "ipython3",
   "version": "3.11.10"
  }
 },
 "nbformat": 4,
 "nbformat_minor": 2
}
