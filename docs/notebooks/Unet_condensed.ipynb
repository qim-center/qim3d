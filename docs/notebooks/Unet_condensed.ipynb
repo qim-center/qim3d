{
 "cells": [
  {
   "cell_type": "code",
   "execution_count": 1,
   "id": "be66055b-8ee9-46be-ad9d-f15edf2654a4",
   "metadata": {},
   "outputs": [],
   "source": [
    "%load_ext autoreload\n",
    "%autoreload 2"
   ]
  },
  {
   "cell_type": "code",
   "execution_count": 2,
   "id": "0c61dd11-5a2b-44ff-b0e5-989360bbb677",
   "metadata": {},
   "outputs": [],
   "source": [
    "from os.path import join\n",
    "import qim3d\n",
    "\n",
    "%matplotlib inline"
   ]
  },
  {
   "cell_type": "code",
   "execution_count": 3,
   "id": "cd6bb832-1297-462f-8d35-1738a9c37ffd",
   "metadata": {},
   "outputs": [],
   "source": [
    "# Define function for getting dataset path from string\n",
    "def get_dataset_path(name: str, datasets):\n",
    "    assert name in datasets, 'Dataset name must be ' + ' or '.join(datasets)\n",
    "    dataset_idx = datasets.index(name)\n",
    "    datasets_path = [\n",
    "        '/dtu/3d-imaging-center/projects/2023_STUDIOS_SD/analysis/data/Belialev2020/side',\n",
    "        '/dtu/3d-imaging-center/projects/2023_STUDIOS_SD/analysis/data/Gaudez2022/3d',\n",
    "        '/dtu/3d-imaging-center/projects/2023_STUDIOS_SD/analysis/data/Guo2023/2d/',\n",
    "        '/dtu/3d-imaging-center/projects/2023_STUDIOS_SD/analysis/data/Stan2020/2d',\n",
    "        '/dtu/3d-imaging-center/projects/2023_STUDIOS_SD/analysis/data/Reichardt2021/2d',\n",
    "        '/dtu/3d-imaging-center/projects/2023_STUDIOS_SD/analysis/data/TestCircles/2d_binary'\n",
    "    ]\n",
    "    return datasets_path[dataset_idx]"
   ]
  },
  {
   "cell_type": "markdown",
   "id": "7d07077a-cce3-4448-89f5-02413345becc",
   "metadata": {},
   "source": [
    "### Datasets"
   ]
  },
  {
   "cell_type": "code",
   "execution_count": 4,
   "id": "9a3b9c3c-4bbb-4a19-9685-f68c437e8bee",
   "metadata": {},
   "outputs": [],
   "source": [
    "datasets = ['belialev2020_side', 'gaudez2022_3d', 'guo2023_2d', 'stan2020_2d', 'reichardt2021_2d', 'testcircles_2dbinary']\n",
    "dataset = datasets[-1] \n",
    "root = get_dataset_path(dataset,datasets)\n",
    "\n",
    "# should not use gaudez2022: 3d image\n",
    "# reichardt2021: multiclass segmentation"
   ]
  },
  {
   "cell_type": "markdown",
   "id": "254dc8cb-6f24-4b57-91c0-98fb6f62602c",
   "metadata": {},
   "source": [
    "### Model and Augmentation"
   ]
  },
  {
   "cell_type": "code",
   "execution_count": 5,
   "id": "30098003-ec06-48e0-809f-82f44166fb2b",
   "metadata": {},
   "outputs": [],
   "source": [
    "# defining model\n",
    "my_model = qim3d.models.UNet(size = 'medium',kernel_size = 3)\n",
    "# defining augmentation\n",
    "my_aug = qim3d.utils.Augmentation(resize = 127, transform_train = 'moderate')"
   ]
  },
  {
   "cell_type": "markdown",
   "id": "7b56c654-720d-4c5f-8545-749daa5dbaf2",
   "metadata": {},
   "source": [
    "### Loading the data"
   ]
  },
  {
   "cell_type": "code",
   "execution_count": 6,
   "id": "84141298-054d-4322-8bda-5ec514528985",
   "metadata": {},
   "outputs": [
    {
     "name": "stderr",
     "output_type": "stream",
     "text": [
      "The image size doesn't match the Unet model's depth. The image is resized to: (96, 96)\n"
     ]
    },
    {
     "ename": "FileNotFoundError",
     "evalue": "[Errno 2] No such file or directory: '/dtu/3d-imaging-center/projects/2023_STUDIOS_SD/analysis/data/TestCircles/2d_binary/train/images'",
     "output_type": "error",
     "traceback": [
      "\u001b[0;31m---------------------------------------------------------------------------\u001b[0m",
      "\u001b[0;31mFileNotFoundError\u001b[0m                         Traceback (most recent call last)",
      "Cell \u001b[0;32mIn[6], line 5\u001b[0m\n\u001b[1;32m      2\u001b[0m qim3d\u001b[38;5;241m.\u001b[39mio\u001b[38;5;241m.\u001b[39mlogger\u001b[38;5;241m.\u001b[39mlevel(\u001b[38;5;124m'\u001b[39m\u001b[38;5;124minfo\u001b[39m\u001b[38;5;124m'\u001b[39m)\n\u001b[1;32m      4\u001b[0m \u001b[38;5;66;03m# datasets and dataloaders\u001b[39;00m\n\u001b[0;32m----> 5\u001b[0m train_set, val_set, test_set \u001b[38;5;241m=\u001b[39m \u001b[43mqim3d\u001b[49m\u001b[38;5;241;43m.\u001b[39;49m\u001b[43mutils\u001b[49m\u001b[38;5;241;43m.\u001b[39;49m\u001b[43mprepare_datasets\u001b[49m\u001b[43m(\u001b[49m\u001b[43mpath\u001b[49m\u001b[43m \u001b[49m\u001b[38;5;241;43m=\u001b[39;49m\u001b[43m \u001b[49m\u001b[43mroot\u001b[49m\u001b[43m,\u001b[49m\u001b[43m \u001b[49m\u001b[43mval_fraction\u001b[49m\u001b[43m \u001b[49m\u001b[38;5;241;43m=\u001b[39;49m\u001b[43m \u001b[49m\u001b[38;5;241;43m0.3\u001b[39;49m\u001b[43m,\u001b[49m\u001b[43m \u001b[49m\u001b[43mmodel\u001b[49m\u001b[43m \u001b[49m\u001b[38;5;241;43m=\u001b[39;49m\u001b[43m \u001b[49m\u001b[43mmy_model\u001b[49m\u001b[43m \u001b[49m\u001b[43m,\u001b[49m\u001b[43m \u001b[49m\u001b[43maugmentation\u001b[49m\u001b[43m \u001b[49m\u001b[38;5;241;43m=\u001b[39;49m\u001b[43m \u001b[49m\u001b[43mmy_aug\u001b[49m\u001b[43m)\u001b[49m\n\u001b[1;32m      6\u001b[0m train_loader, val_loader, test_loader \u001b[38;5;241m=\u001b[39m qim3d\u001b[38;5;241m.\u001b[39mutils\u001b[38;5;241m.\u001b[39mprepare_dataloaders(train_set, val_set, test_set, batch_size \u001b[38;5;241m=\u001b[39m \u001b[38;5;241m8\u001b[39m)\n",
      "File \u001b[0;32m~/qim/qim3d/utils/data.py:164\u001b[0m, in \u001b[0;36mprepare_datasets\u001b[0;34m(path, val_fraction, model, augmentation)\u001b[0m\n\u001b[1;32m    160\u001b[0m     im_h,im_w \u001b[38;5;241m=\u001b[39m resize\n\u001b[1;32m    162\u001b[0m final_h, final_w \u001b[38;5;241m=\u001b[39m check_resize(im_h, im_w, n_channels)\n\u001b[0;32m--> 164\u001b[0m train_set \u001b[38;5;241m=\u001b[39m \u001b[43mDataset\u001b[49m\u001b[43m(\u001b[49m\u001b[43mroot_path\u001b[49m\u001b[43m \u001b[49m\u001b[38;5;241;43m=\u001b[39;49m\u001b[43m \u001b[49m\u001b[43mpath\u001b[49m\u001b[43m,\u001b[49m\u001b[43m \u001b[49m\u001b[43mtransform\u001b[49m\u001b[43m \u001b[49m\u001b[38;5;241;43m=\u001b[39;49m\u001b[43m \u001b[49m\u001b[43maugmentation\u001b[49m\u001b[38;5;241;43m.\u001b[39;49m\u001b[43maugment\u001b[49m\u001b[43m(\u001b[49m\u001b[43mfinal_h\u001b[49m\u001b[43m,\u001b[49m\u001b[43m \u001b[49m\u001b[43mfinal_w\u001b[49m\u001b[43m,\u001b[49m\u001b[43m \u001b[49m\u001b[43maugmentation\u001b[49m\u001b[38;5;241;43m.\u001b[39;49m\u001b[43mtransform_train\u001b[49m\u001b[43m)\u001b[49m\u001b[43m)\u001b[49m\n\u001b[1;32m    165\u001b[0m val_set   \u001b[38;5;241m=\u001b[39m Dataset(root_path \u001b[38;5;241m=\u001b[39m path, transform \u001b[38;5;241m=\u001b[39m augmentation\u001b[38;5;241m.\u001b[39maugment(final_h, final_w, augmentation\u001b[38;5;241m.\u001b[39mtransform_validation))\n\u001b[1;32m    166\u001b[0m test_set  \u001b[38;5;241m=\u001b[39m Dataset(root_path \u001b[38;5;241m=\u001b[39m path, split\u001b[38;5;241m=\u001b[39m\u001b[38;5;124m'\u001b[39m\u001b[38;5;124mtest\u001b[39m\u001b[38;5;124m'\u001b[39m, transform \u001b[38;5;241m=\u001b[39m augmentation\u001b[38;5;241m.\u001b[39maugment(final_h, final_w, augmentation\u001b[38;5;241m.\u001b[39mtransform_test))\n",
      "File \u001b[0;32m~/qim/qim3d/utils/data.py:53\u001b[0m, in \u001b[0;36mDataset.__init__\u001b[0;34m(self, root_path, split, transform)\u001b[0m\n\u001b[1;32m     49\u001b[0m \u001b[38;5;28mself\u001b[39m\u001b[38;5;241m.\u001b[39mtransform \u001b[38;5;241m=\u001b[39m transform\n\u001b[1;32m     51\u001b[0m path \u001b[38;5;241m=\u001b[39m Path(root_path) \u001b[38;5;241m/\u001b[39m split\n\u001b[0;32m---> 53\u001b[0m \u001b[38;5;28mself\u001b[39m\u001b[38;5;241m.\u001b[39msample_images \u001b[38;5;241m=\u001b[39m [file \u001b[38;5;28;01mfor\u001b[39;00m file \u001b[38;5;129;01min\u001b[39;00m \u001b[38;5;28;43msorted\u001b[39;49m\u001b[43m(\u001b[49m\u001b[43m(\u001b[49m\u001b[43mpath\u001b[49m\u001b[43m \u001b[49m\u001b[38;5;241;43m/\u001b[39;49m\u001b[43m \u001b[49m\u001b[38;5;124;43m\"\u001b[39;49m\u001b[38;5;124;43mimages\u001b[39;49m\u001b[38;5;124;43m\"\u001b[39;49m\u001b[43m)\u001b[49m\u001b[38;5;241;43m.\u001b[39;49m\u001b[43miterdir\u001b[49m\u001b[43m(\u001b[49m\u001b[43m)\u001b[49m\u001b[43m)\u001b[49m]\n\u001b[1;32m     54\u001b[0m \u001b[38;5;28mself\u001b[39m\u001b[38;5;241m.\u001b[39msample_targets \u001b[38;5;241m=\u001b[39m [file \u001b[38;5;28;01mfor\u001b[39;00m file \u001b[38;5;129;01min\u001b[39;00m \u001b[38;5;28msorted\u001b[39m((path \u001b[38;5;241m/\u001b[39m \u001b[38;5;124m\"\u001b[39m\u001b[38;5;124mlabels\u001b[39m\u001b[38;5;124m\"\u001b[39m)\u001b[38;5;241m.\u001b[39miterdir())]\n\u001b[1;32m     55\u001b[0m \u001b[38;5;28;01massert\u001b[39;00m \u001b[38;5;28mlen\u001b[39m(\u001b[38;5;28mself\u001b[39m\u001b[38;5;241m.\u001b[39msample_images) \u001b[38;5;241m==\u001b[39m \u001b[38;5;28mlen\u001b[39m(\u001b[38;5;28mself\u001b[39m\u001b[38;5;241m.\u001b[39msample_targets)\n",
      "File \u001b[0;32m~/miniconda3/envs/dev/lib/python3.10/pathlib.py:1017\u001b[0m, in \u001b[0;36mPath.iterdir\u001b[0;34m(self)\u001b[0m\n\u001b[1;32m   1013\u001b[0m \u001b[38;5;28;01mdef\u001b[39;00m \u001b[38;5;21miterdir\u001b[39m(\u001b[38;5;28mself\u001b[39m):\n\u001b[1;32m   1014\u001b[0m \u001b[38;5;250m    \u001b[39m\u001b[38;5;124;03m\"\"\"Iterate over the files in this directory.  Does not yield any\u001b[39;00m\n\u001b[1;32m   1015\u001b[0m \u001b[38;5;124;03m    result for the special paths '.' and '..'.\u001b[39;00m\n\u001b[1;32m   1016\u001b[0m \u001b[38;5;124;03m    \"\"\"\u001b[39;00m\n\u001b[0;32m-> 1017\u001b[0m     \u001b[38;5;28;01mfor\u001b[39;00m name \u001b[38;5;129;01min\u001b[39;00m \u001b[38;5;28;43mself\u001b[39;49m\u001b[38;5;241;43m.\u001b[39;49m\u001b[43m_accessor\u001b[49m\u001b[38;5;241;43m.\u001b[39;49m\u001b[43mlistdir\u001b[49m\u001b[43m(\u001b[49m\u001b[38;5;28;43mself\u001b[39;49m\u001b[43m)\u001b[49m:\n\u001b[1;32m   1018\u001b[0m         \u001b[38;5;28;01mif\u001b[39;00m name \u001b[38;5;129;01min\u001b[39;00m {\u001b[38;5;124m'\u001b[39m\u001b[38;5;124m.\u001b[39m\u001b[38;5;124m'\u001b[39m, \u001b[38;5;124m'\u001b[39m\u001b[38;5;124m..\u001b[39m\u001b[38;5;124m'\u001b[39m}:\n\u001b[1;32m   1019\u001b[0m             \u001b[38;5;66;03m# Yielding a path object for these makes little sense\u001b[39;00m\n\u001b[1;32m   1020\u001b[0m             \u001b[38;5;28;01mcontinue\u001b[39;00m\n",
      "\u001b[0;31mFileNotFoundError\u001b[0m: [Errno 2] No such file or directory: '/dtu/3d-imaging-center/projects/2023_STUDIOS_SD/analysis/data/TestCircles/2d_binary/train/images'"
     ]
    }
   ],
   "source": [
    "# level of logging\n",
    "qim3d.io.logger.level('info')\n",
    "\n",
    "# datasets and dataloaders\n",
    "train_set, val_set, test_set = qim3d.utils.prepare_datasets(path = root, val_fraction = 0.3, model = my_model , augmentation = my_aug)\n",
    "train_loader, val_loader, test_loader = qim3d.utils.prepare_dataloaders(train_set, val_set, test_set, batch_size = 8)"
   ]
  },
  {
   "cell_type": "code",
   "execution_count": null,
   "id": "7fa3aa57-ba61-4c9a-934c-dce26bbc9e97",
   "metadata": {
    "scrolled": true
   },
   "outputs": [],
   "source": [
    "# Summary of model\n",
    "model_s = qim3d.utils.model_summary(train_loader,my_model)\n",
    "# print(model_s)"
   ]
  },
  {
   "cell_type": "markdown",
   "id": "a665ae28-d9a6-419f-9131-54283b47582c",
   "metadata": {},
   "source": [
    "### Hyperparameters and training"
   ]
  },
  {
   "cell_type": "code",
   "execution_count": null,
   "id": "ce64ae65-01fb-45a9-bdcb-a3806de8469e",
   "metadata": {
    "scrolled": true
   },
   "outputs": [],
   "source": [
    "# model hyperparameters\n",
    "qim_hyper = qim3d.models.Hyperparameters(my_model, n_epochs=20, learning_rate = 1e-4)\n",
    "hyper_dict = qim_hyper()\n",
    "\n",
    "# training model\n",
    "qim3d.utils.train_model(my_model, hyper_dict, train_loader, val_loader, plot=True)"
   ]
  },
  {
   "cell_type": "markdown",
   "id": "7e14fac8-4fd3-4725-bd0d-9e2a95552278",
   "metadata": {},
   "source": [
    "### Plotting"
   ]
  },
  {
   "cell_type": "code",
   "execution_count": null,
   "id": "58df67ef-9a17-46fe-adb8-1cc3a9e504f5",
   "metadata": {},
   "outputs": [],
   "source": [
    "in_targ_preds_train = qim3d.utils.inference(train_set,my_model)\n",
    "qim3d.viz.grid_pred(in_targ_preds_train,alpha=1)"
   ]
  },
  {
   "cell_type": "code",
   "execution_count": null,
   "id": "f8684cb0-5673-4409-8d22-f00b7d099ca4",
   "metadata": {},
   "outputs": [],
   "source": [
    "in_targ_preds_test = qim3d.utils.inference(test_set,my_model)\n",
    "qim3d.viz.grid_pred(in_targ_preds_test,alpha=1)"
   ]
  }
 ],
 "metadata": {
  "kernelspec": {
   "display_name": "Python 3 (ipykernel)",
   "language": "python",
   "name": "python3"
  },
  "language_info": {
   "codemirror_mode": {
    "name": "ipython",
    "version": 3
   },
   "file_extension": ".py",
   "mimetype": "text/x-python",
   "name": "python",
   "nbconvert_exporter": "python",
   "pygments_lexer": "ipython3",
   "version": "3.10.11"
  }
 },
 "nbformat": 4,
 "nbformat_minor": 5
}
