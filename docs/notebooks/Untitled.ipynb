{
 "cells": [
  {
   "cell_type": "code",
   "execution_count": 1,
   "id": "0b73f2d8",
   "metadata": {},
   "outputs": [],
   "source": [
    "import qim3d"
   ]
  },
  {
   "cell_type": "code",
   "execution_count": 2,
   "id": "73db6886",
   "metadata": {},
   "outputs": [],
   "source": [
    "vol = qim3d.examples.bone_128x128x128"
   ]
  },
  {
   "cell_type": "code",
   "execution_count": 8,
   "id": "22d86d4d",
   "metadata": {},
   "outputs": [
    {
     "data": {
      "application/vnd.jupyter.widget-view+json": {
       "model_id": "2fefeafbd89c4f9fa5a08dc1a5d503d1",
       "version_major": 2,
       "version_minor": 0
      },
      "text/plain": [
       "HBox(children=(interactive(children=(IntSlider(value=64, description='Z', max=127), Output()), layout=Layout(a…"
      ]
     },
     "execution_count": 8,
     "metadata": {},
     "output_type": "execute_result"
    }
   ],
   "source": [
    "qim3d.viz.orthogonal(vol)"
   ]
  }
 ],
 "metadata": {
  "kernelspec": {
   "display_name": "Python 3 (ipykernel)",
   "language": "python",
   "name": "python3"
  },
  "language_info": {
   "codemirror_mode": {
    "name": "ipython",
    "version": 3
   },
   "file_extension": ".py",
   "mimetype": "text/x-python",
   "name": "python",
   "nbconvert_exporter": "python",
   "pygments_lexer": "ipython3",
   "version": "3.11.5"
  }
 },
 "nbformat": 4,
 "nbformat_minor": 5
}
