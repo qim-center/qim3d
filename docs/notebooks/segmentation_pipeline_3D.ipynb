{
 "cells": [
  {
   "cell_type": "markdown",
   "metadata": {},
   "source": [
    "# **Deep Learning Volume Segmentation (3D UNet)**\n",
    "\n",
    "Authors: Anna Ekner (s193396@dtu.dk)\n",
    "\n",
    "This notebook aims to demonstrate the feasibility of implementing a comprehensive deep learning segmentation pipeline solely leveraging the capabilities offered by the `qim3d` library. Specifically, it highlights the use of the synthetic data generation functionalities to create a volumetric dataset with associated labels, and walks through the process of creating and training a 3D UNet model using this synthetic dataset."
   ]
  },
  {
   "cell_type": "code",
   "execution_count": 16,
   "metadata": {},
   "outputs": [],
   "source": [
    "import qim3d\n",
    "import os"
   ]
  },
  {
   "cell_type": "markdown",
   "metadata": {},
   "source": [
    "### **1. Generate synthetic dataset**"
   ]
  },
  {
   "cell_type": "markdown",
   "metadata": {},
   "source": [
    "The `qim3d` library provides methods for generating 3D synthetic data and corresponding masks through the `qim3d.generate` module, which can be used to train segmentation models. This notebook is designed to demonstrate the segmentation pipeline, and the synthetic dataset can be replaced with any dataset suitable for the specific segmentation task. It is important to note that, for training a deep learning model, the dataset must include both 1) raw 3D volumes, and 2) the corresponding 3D masks where the structures of interest have been segmented (i.e. ground truth labels)."
   ]
  },
  {
   "cell_type": "markdown",
   "metadata": {},
   "source": [
    "##### **1.1 Create dataset folder structure**"
   ]
  },
  {
   "cell_type": "markdown",
   "metadata": {},
   "source": [
    "The dataset for training the model expects files to follow this structure:\n",
    "\n",
    "<pre>\n",
    "dataset\n",
    "├── train\n",
    "│   ├── images\n",
    "│   │   ├── 1.nii.gz\n",
    "│   │   ├── 2.nii.gz\n",
    "│   │   └── (...)\n",
    "│   └── labels\n",
    "│       ├── 1.nii.gz\n",
    "│       ├── 2.nii.gz\n",
    "│       └── (...)\n",
    "└── test\n",
    "    ├── images\n",
    "    │   ├── 3.nii.gz\n",
    "    │   └── (...)\n",
    "    └── labels\n",
    "        ├── 3.nii.gz\n",
    "        └── (...)\n",
    "</pre>\n",
    "\n",
    "The first step is therefore to create these directories, such that the data can be placed there. "
   ]
  },
  {
   "cell_type": "code",
   "execution_count": 17,
   "metadata": {},
   "outputs": [
    {
     "name": "stdout",
     "output_type": "stream",
     "text": [
      "Dataset directory: C:\\Users\\s193396\\dataset\n"
     ]
    }
   ],
   "source": [
    "# Base path for the dataset directory\n",
    "base_path = os.path.expanduser(\"~\\dataset\")\n",
    "print(f\"Dataset directory: {base_path}\")\n",
    "\n",
    "# Option to remove already existing files in the dataset directory\n",
    "clean_files = True"
   ]
  },
  {
   "cell_type": "code",
   "execution_count": 18,
   "metadata": {},
   "outputs": [
    {
     "name": "stdout",
     "output_type": "stream",
     "text": [
      "Creating directories:\n",
      "C:\\Users\\s193396\\dataset\\train\\images\n",
      "C:\\Users\\s193396\\dataset\\train\\labels\n",
      "C:\\Users\\s193396\\dataset\\test\\images\n",
      "C:\\Users\\s193396\\dataset\\test\\labels\n"
     ]
    }
   ],
   "source": [
    "# Create directories\n",
    "print(\"Creating directories:\")\n",
    "\n",
    "for folder_split in [\"train\", \"test\"]:\n",
    "    for folder_type in [\"images\", \"labels\"]:\n",
    "        \n",
    "        path = os.path.join(base_path, folder_split, folder_type)\n",
    "        os.makedirs(path, exist_ok=True)\n",
    "        print(path)\n",
    "\n",
    "if clean_files:\n",
    "    for root, dirs, files in os.walk(base_path):\n",
    "        for file in files:\n",
    "            file_path = os.path.join(root, file)\n",
    "            os.remove(file_path)"
   ]
  },
  {
   "cell_type": "markdown",
   "metadata": {},
   "source": [
    "##### **1.2 Create synthetic data for the dataset**"
   ]
  },
  {
   "cell_type": "markdown",
   "metadata": {},
   "source": [
    "Synthetic data can be generated using the `qim3d.generate` module. In this example, multiple synthetic volumes and their corresponding labels are created. Each volume contains several objects, which represent the structures of interest to be segmented.\n",
    "\n",
    "The dataset must include at least two training samples (one for training and one for validation) and one test sample. Increasing the amount of data will improve the model's ability to generalize."
   ]
  },
  {
   "cell_type": "code",
   "execution_count": 19,
   "metadata": {},
   "outputs": [],
   "source": [
    "# Specify the number of training and testing samples\n",
    "num_train = 4\n",
    "num_test = 1"
   ]
  },
  {
   "cell_type": "code",
   "execution_count": 20,
   "metadata": {},
   "outputs": [
    {
     "name": "stdout",
     "output_type": "stream",
     "text": [
      "Generating 4 training and 1 testing samples with 5 objects each:\n"
     ]
    },
    {
     "data": {
      "application/vnd.jupyter.widget-view+json": {
       "model_id": "93a8fe03f8b543c3898422d0ff6d8439",
       "version_major": 2,
       "version_minor": 0
      },
      "text/plain": [
       "Objects placed:   0%|          | 0/5 [00:00<?, ?it/s]"
      ]
     },
     "metadata": {},
     "output_type": "display_data"
    },
    {
     "data": {
      "application/vnd.jupyter.widget-view+json": {
       "model_id": "681e6c3fb92348c9940823d012ea1be8",
       "version_major": 2,
       "version_minor": 0
      },
      "text/plain": [
       "Objects placed:   0%|          | 0/5 [00:00<?, ?it/s]"
      ]
     },
     "metadata": {},
     "output_type": "display_data"
    },
    {
     "data": {
      "application/vnd.jupyter.widget-view+json": {
       "model_id": "617406e191834469b3ece4fe63ee9da7",
       "version_major": 2,
       "version_minor": 0
      },
      "text/plain": [
       "Objects placed:   0%|          | 0/5 [00:00<?, ?it/s]"
      ]
     },
     "metadata": {},
     "output_type": "display_data"
    },
    {
     "data": {
      "application/vnd.jupyter.widget-view+json": {
       "model_id": "62ceca8bfe884888b28002e0eb5077ea",
       "version_major": 2,
       "version_minor": 0
      },
      "text/plain": [
       "Objects placed:   0%|          | 0/5 [00:00<?, ?it/s]"
      ]
     },
     "metadata": {},
     "output_type": "display_data"
    },
    {
     "data": {
      "application/vnd.jupyter.widget-view+json": {
       "model_id": "6ca6afb981184570a201524ea508322b",
       "version_major": 2,
       "version_minor": 0
      },
      "text/plain": [
       "Objects placed:   0%|          | 0/5 [00:00<?, ?it/s]"
      ]
     },
     "metadata": {},
     "output_type": "display_data"
    }
   ],
   "source": [
    "# Specify the number of objects in each collection volume\n",
    "num_volumes = 5\n",
    "\n",
    "# Generate training and testing samples\n",
    "print(f\"Generating {num_train} training and {num_test} testing samples with {num_volumes} objects each:\")\n",
    "\n",
    "for idx in range(num_train + num_test):\n",
    "\n",
    "    # Determine the folder split (train or test)\n",
    "    if idx < num_train:\n",
    "        folder_split = \"train\"\n",
    "\n",
    "    else:\n",
    "        folder_split = \"test\"\n",
    "\n",
    "    vol, label = qim3d.generate.volume_collection(\n",
    "        num_volumes=num_volumes,\n",
    "        collection_shape=(128, 128, 128),\n",
    "        min_volume_noise=0.03,\n",
    "        max_volume_noise=0.08,\n",
    "    )\n",
    "\n",
    "    # Convert N + 1 labels (each object and background) into 2 labels (any object and background)\n",
    "    label = (label > 0).astype(int)\n",
    "\n",
    "    # Save volume\n",
    "    qim3d.io.save(os.path.join(base_path, folder_split, \"images\", f\"{idx + 1}.nii.gz\"), vol, compression = True, replace = True)\n",
    "\n",
    "    # Save label\n",
    "    qim3d.io.save(os.path.join(base_path, folder_split, \"labels\", f\"{idx + 1}.nii.gz\"), label, compression = True, replace = True)"
   ]
  },
  {
   "cell_type": "markdown",
   "metadata": {},
   "source": [
    "Now that the data has been generated and saved, we can verify that the dataset directory contains the images and labels."
   ]
  },
  {
   "cell_type": "code",
   "execution_count": 21,
   "metadata": {},
   "outputs": [
    {
     "name": "stdout",
     "output_type": "stream",
     "text": [
      "Image indices for training data.....: [1, 2, 3, 4]\n",
      "Image indices for testing data......: [5]\n"
     ]
    }
   ],
   "source": [
    "# Check the image indices for training and testing data\n",
    "for folder_split in [\"train\", \"test\"]:\n",
    "\n",
    "    path = os.path.join(base_path, folder_split, \"images\")\n",
    "    files = os.listdir(path)\n",
    "    files = [int(os.path.basename(f)[0]) for f in files]\n",
    "\n",
    "    if folder_split == \"train\":\n",
    "        print(f\"Image indices for training data.....: {files}\")\n",
    "    \n",
    "    elif folder_split == \"test\":\n",
    "        print(f\"Image indices for testing data......: {files}\")\n"
   ]
  },
  {
   "cell_type": "markdown",
   "metadata": {},
   "source": [
    "##### **1.3 Visualize synthetic data**"
   ]
  },
  {
   "cell_type": "markdown",
   "metadata": {},
   "source": [
    "To examine the synthetic volumes and their corresponding labels, we load and visualize one of the samples."
   ]
  },
  {
   "cell_type": "code",
   "execution_count": 22,
   "metadata": {},
   "outputs": [],
   "source": [
    "# Load volume\n",
    "volume = qim3d.io.load(os.path.join(base_path, \"train\", \"images\", \"1.nii.gz\"))\n",
    "label = qim3d.io.load(os.path.join(base_path, \"train\", \"labels\", \"1.nii.gz\"))"
   ]
  },
  {
   "cell_type": "code",
   "execution_count": 23,
   "metadata": {},
   "outputs": [
    {
     "data": {
      "application/vnd.jupyter.widget-view+json": {
       "model_id": "85d9f6cf2aec4e9292308def96cb8183",
       "version_major": 2,
       "version_minor": 0
      },
      "text/plain": [
       "Output()"
      ]
     },
     "metadata": {},
     "output_type": "display_data"
    }
   ],
   "source": [
    "# Visualize volume\n",
    "qim3d.viz.volumetric(vol)"
   ]
  },
  {
   "cell_type": "code",
   "execution_count": 24,
   "metadata": {},
   "outputs": [
    {
     "name": "stdout",
     "output_type": "stream",
     "text": [
      "Slices of raw volume:\n"
     ]
    },
    {
     "data": {
      "image/png": "[encoded data removed]",
      "text/plain": [
       "<Figure size 1000x200 with 5 Axes>"
      ]
     },
     "metadata": {},
     "output_type": "display_data"
    },
    {
     "name": "stdout",
     "output_type": "stream",
     "text": [
      "Slices of associated ground truth label:\n"
     ]
    },
    {
     "data": {
      "image/png": "[encoded data removed]",
      "text/plain": [
       "<Figure size 1000x200 with 5 Axes>"
      ]
     },
     "execution_count": 24,
     "metadata": {},
     "output_type": "execute_result"
    }
   ],
   "source": [
    "# Visualize slices of volume and label\n",
    "print(f\"Slices of raw volume:\")\n",
    "qim3d.viz.slices_grid(volume, num_slices = 5, display_figure = True)\n",
    "\n",
    "print(f\"Slices of associated ground truth label:\")\n",
    "qim3d.viz.slices_grid(label, num_slices=5)"
   ]
  },
  {
   "cell_type": "markdown",
   "metadata": {},
   "source": [
    "### **2. Build 3D UNet model**"
   ]
  },
  {
   "cell_type": "markdown",
   "metadata": {},
   "source": [
    "The `qim3d` library offers a collection of pre-built deep learning models, including a 3D UNet model for segmentation. The 3D UNet model operates directly on 3D data, leveraging the volumetric structure of the data to learn complex features."
   ]
  },
  {
   "cell_type": "markdown",
   "metadata": {},
   "source": [
    "##### **2.1 Define model architecture**"
   ]
  },
  {
   "cell_type": "markdown",
   "metadata": {},
   "source": [
    "Instead of specifying the model architecture from scratch, the `qim3d` library enables automatic configuration based on a specified size (*small*, *medium*, or *large*). Additionally, you can customize parameters such as dropout rate, activation function, and convolution kernel size when defining the model architecture."
   ]
  },
  {
   "cell_type": "code",
   "execution_count": 25,
   "metadata": {},
   "outputs": [],
   "source": [
    "# Define the 3D UNet model\n",
    "model = qim3d.ml.models.UNet(size = 'small')"
   ]
  },
  {
   "cell_type": "markdown",
   "metadata": {},
   "source": [
    "##### **2.2 Define data augmentations**"
   ]
  },
  {
   "cell_type": "markdown",
   "metadata": {},
   "source": [
    "Data augmentation is a technique used to artificially increase the training set by applying various transformations (such as rotation, flipping, cropping) to the existing data. The goal is to increase the diversity of the training set with these random (but realistic) augmentations, thus making the model more robust to subtle variations in the data.\n",
    "\n",
    "The `qim3d` library provides a convenient way to apply pre-defined augmentation sets to the dataset splits, based on a specified level of augmentation (*light*, *moderate*, or *heavy*)."
   ]
  },
  {
   "cell_type": "code",
   "execution_count": 26,
   "metadata": {},
   "outputs": [],
   "source": [
    "# Define augmentation\n",
    "augmentation =  qim3d.ml.Augmentation(\n",
    "    resize = 'crop', \n",
    "    transform_train = 'light',\n",
    "    transform_validation = None,\n",
    "    transform_test = None,\n",
    "    )"
   ]
  },
  {
   "cell_type": "markdown",
   "metadata": {},
   "source": [
    "##### **2.3 Prepare dataset splits and apply augmentations**"
   ]
  },
  {
   "cell_type": "markdown",
   "metadata": {},
   "source": [
    "With the model architecture and augmentation pipeline defined, we are now ready to prepare the dataset. The dataset is divided into three subsets:\n",
    "\n",
    "- Training set\n",
    "- Validation set\n",
    "- Test set\n",
    "\n",
    "We have previously specified the number of samples for the training and test sets. The validation set is created by allocating a portion of the training set, as specified by the `val_fraction` parameter. The model is trained on the training set, evaluated during training on the validation set, and finally assessed on the unseen test set. Each subset is prepared by applying the corresponding augmentations defined in the previous step to the data samples within that subset."
   ]
  },
  {
   "cell_type": "code",
   "execution_count": 27,
   "metadata": {},
   "outputs": [],
   "source": [
    "# Define dataset splits\n",
    "train_set, val_set, test_set = qim3d.ml.prepare_datasets(\n",
    "    path = base_path,\n",
    "    val_fraction = 0.5,\n",
    "    model = model,\n",
    "    augmentation = augmentation\n",
    "    )"
   ]
  },
  {
   "cell_type": "markdown",
   "metadata": {},
   "source": [
    "To ensure compatibility with `PyTorch`, a dataloader is prepared for each dataset split. The batch size, which specifies the number of training samples grouped together during model training, is also defined at this step."
   ]
  },
  {
   "cell_type": "code",
   "execution_count": 28,
   "metadata": {},
   "outputs": [],
   "source": [
    "# Define data loaders\n",
    "train_loader, val_loader, test_loader = qim3d.ml.prepare_dataloaders(\n",
    "    train_set = train_set, \n",
    "    val_set = val_set,\n",
    "    test_set = test_set,\n",
    "    batch_size = 1,\n",
    "    num_workers = 0, \n",
    "    )"
   ]
  },
  {
   "cell_type": "markdown",
   "metadata": {},
   "source": [
    "##### **2.4 Verify model summary**"
   ]
  },
  {
   "cell_type": "markdown",
   "metadata": {},
   "source": [
    "You can also obtain a summary of the model architecture to verify the model configuration. This summary provides detailed information about each layer in the model, including the layer types, output shapes, and the number of parameters. Reviewing the model summary helps ensure that the architecture is correctly defined and meets the requirements of your specific task."
   ]
  },
  {
   "cell_type": "code",
   "execution_count": 29,
   "metadata": {},
   "outputs": [
    {
     "name": "stdout",
     "output_type": "stream",
     "text": [
      "=============================================================================================================================\n",
      "Layer (type:depth-idx)                                                      Output Shape              Param #\n",
      "=============================================================================================================================\n",
      "UNet                                                                        [1, 1, 128, 128, 128]     --\n",
      "├─UNet: 1-1                                                                 [1, 1, 128, 128, 128]     --\n",
      "│    └─Sequential: 2-1                                                      [1, 1, 128, 128, 128]     --\n",
      "│    │    └─ResidualUnit: 3-1                                               [1, 64, 64, 64, 64]       --\n",
      "│    │    │    └─Conv3d: 4-1                                                [1, 64, 64, 64, 64]       1,792\n",
      "│    │    │    └─Sequential: 4-2                                            [1, 64, 64, 64, 64]       --\n",
      "│    │    │    │    └─Convolution: 5-1                                      [1, 64, 64, 64, 64]       --\n",
      "│    │    │    │    │    └─Conv3d: 6-1                                      [1, 64, 64, 64, 64]       1,792\n",
      "│    │    │    │    │    └─ADN: 6-2                                         [1, 64, 64, 64, 64]       --\n",
      "│    │    │    │    │    │    └─InstanceNorm3d: 7-1                         [1, 64, 64, 64, 64]       --\n",
      "│    │    │    │    │    │    └─Dropout: 7-2                                [1, 64, 64, 64, 64]       --\n",
      "│    │    │    │    │    │    └─PReLU: 7-3                                  [1, 64, 64, 64, 64]       1\n",
      "│    │    │    │    └─Convolution: 5-2                                      [1, 64, 64, 64, 64]       --\n",
      "│    │    │    │    │    └─Conv3d: 6-3                                      [1, 64, 64, 64, 64]       110,656\n",
      "│    │    │    │    │    └─ADN: 6-4                                         [1, 64, 64, 64, 64]       --\n",
      "│    │    │    │    │    │    └─InstanceNorm3d: 7-4                         [1, 64, 64, 64, 64]       --\n",
      "│    │    │    │    │    │    └─Dropout: 7-5                                [1, 64, 64, 64, 64]       --\n",
      "│    │    │    │    │    │    └─PReLU: 7-6                                  [1, 64, 64, 64, 64]       1\n",
      "│    │    └─SkipConnection: 3-2                                             [1, 128, 64, 64, 64]      --\n",
      "│    │    │    └─Sequential: 4-3                                            [1, 64, 64, 64, 64]       --\n",
      "│    │    │    │    └─ResidualUnit: 5-3                                     [1, 128, 32, 32, 32]      --\n",
      "│    │    │    │    │    └─Conv3d: 6-5                                      [1, 128, 32, 32, 32]      221,312\n",
      "│    │    │    │    │    └─Sequential: 6-6                                  [1, 128, 32, 32, 32]      --\n",
      "│    │    │    │    │    │    └─Convolution: 7-7                            [1, 128, 32, 32, 32]      --\n",
      "│    │    │    │    │    │    │    └─Conv3d: 8-1                            [1, 128, 32, 32, 32]      221,312\n",
      "│    │    │    │    │    │    │    └─ADN: 8-2                               [1, 128, 32, 32, 32]      --\n",
      "│    │    │    │    │    │    │    │    └─InstanceNorm3d: 9-1               [1, 128, 32, 32, 32]      --\n",
      "│    │    │    │    │    │    │    │    └─Dropout: 9-2                      [1, 128, 32, 32, 32]      --\n",
      "│    │    │    │    │    │    │    │    └─PReLU: 9-3                        [1, 128, 32, 32, 32]      1\n",
      "│    │    │    │    │    │    └─Convolution: 7-8                            [1, 128, 32, 32, 32]      --\n",
      "│    │    │    │    │    │    │    └─Conv3d: 8-3                            [1, 128, 32, 32, 32]      442,496\n",
      "│    │    │    │    │    │    │    └─ADN: 8-4                               [1, 128, 32, 32, 32]      --\n",
      "│    │    │    │    │    │    │    │    └─InstanceNorm3d: 9-4               [1, 128, 32, 32, 32]      --\n",
      "│    │    │    │    │    │    │    │    └─Dropout: 9-5                      [1, 128, 32, 32, 32]      --\n",
      "│    │    │    │    │    │    │    │    └─PReLU: 9-6                        [1, 128, 32, 32, 32]      1\n",
      "│    │    │    │    └─SkipConnection: 5-4                                   [1, 384, 32, 32, 32]      --\n",
      "│    │    │    │    │    └─ResidualUnit: 6-7                                [1, 256, 32, 32, 32]      --\n",
      "│    │    │    │    │    │    └─Conv3d: 7-9                                 [1, 256, 32, 32, 32]      33,024\n",
      "│    │    │    │    │    │    └─Sequential: 7-10                            [1, 256, 32, 32, 32]      --\n",
      "│    │    │    │    │    │    │    └─Convolution: 8-5                       [1, 256, 32, 32, 32]      --\n",
      "│    │    │    │    │    │    │    │    └─Conv3d: 9-7                       [1, 256, 32, 32, 32]      884,992\n",
      "│    │    │    │    │    │    │    │    └─ADN: 9-8                          [1, 256, 32, 32, 32]      --\n",
      "│    │    │    │    │    │    │    │    │    └─InstanceNorm3d: 10-1         [1, 256, 32, 32, 32]      --\n",
      "│    │    │    │    │    │    │    │    │    └─Dropout: 10-2                [1, 256, 32, 32, 32]      --\n",
      "│    │    │    │    │    │    │    │    │    └─PReLU: 10-3                  [1, 256, 32, 32, 32]      1\n",
      "│    │    │    │    │    │    │    └─Convolution: 8-6                       [1, 256, 32, 32, 32]      --\n",
      "│    │    │    │    │    │    │    │    └─Conv3d: 9-9                       [1, 256, 32, 32, 32]      1,769,728\n",
      "│    │    │    │    │    │    │    │    └─ADN: 9-10                         [1, 256, 32, 32, 32]      --\n",
      "│    │    │    │    │    │    │    │    │    └─InstanceNorm3d: 10-4         [1, 256, 32, 32, 32]      --\n",
      "│    │    │    │    │    │    │    │    │    └─Dropout: 10-5                [1, 256, 32, 32, 32]      --\n",
      "│    │    │    │    │    │    │    │    │    └─PReLU: 10-6                  [1, 256, 32, 32, 32]      1\n",
      "│    │    │    │    └─Sequential: 5-5                                       [1, 64, 64, 64, 64]       --\n",
      "│    │    │    │    │    └─Convolution: 6-8                                 [1, 64, 64, 64, 64]       --\n",
      "│    │    │    │    │    │    └─ConvTranspose3d: 7-11                       [1, 64, 64, 64, 64]       663,616\n",
      "│    │    │    │    │    │    └─ADN: 7-12                                   [1, 64, 64, 64, 64]       --\n",
      "│    │    │    │    │    │    │    └─InstanceNorm3d: 8-7                    [1, 64, 64, 64, 64]       --\n",
      "│    │    │    │    │    │    │    └─Dropout: 8-8                           [1, 64, 64, 64, 64]       --\n",
      "│    │    │    │    │    │    │    └─PReLU: 8-9                             [1, 64, 64, 64, 64]       1\n",
      "│    │    │    │    │    └─ResidualUnit: 6-9                                [1, 64, 64, 64, 64]       --\n",
      "│    │    │    │    │    │    └─Identity: 7-13                              [1, 64, 64, 64, 64]       --\n",
      "│    │    │    │    │    │    └─Sequential: 7-14                            [1, 64, 64, 64, 64]       --\n",
      "│    │    │    │    │    │    │    └─Convolution: 8-10                      [1, 64, 64, 64, 64]       --\n",
      "│    │    │    │    │    │    │    │    └─Conv3d: 9-11                      [1, 64, 64, 64, 64]       110,656\n",
      "│    │    │    │    │    │    │    │    └─ADN: 9-12                         [1, 64, 64, 64, 64]       --\n",
      "│    │    │    │    │    │    │    │    │    └─InstanceNorm3d: 10-7         [1, 64, 64, 64, 64]       --\n",
      "│    │    │    │    │    │    │    │    │    └─Dropout: 10-8                [1, 64, 64, 64, 64]       --\n",
      "│    │    │    │    │    │    │    │    │    └─PReLU: 10-9                  [1, 64, 64, 64, 64]       1\n",
      "│    │    └─Sequential: 3-3                                                 [1, 1, 128, 128, 128]     --\n",
      "│    │    │    └─Convolution: 4-4                                           [1, 1, 128, 128, 128]     --\n",
      "│    │    │    │    └─ConvTranspose3d: 5-6                                  [1, 1, 128, 128, 128]     3,457\n",
      "│    │    │    │    └─ADN: 5-7                                              [1, 1, 128, 128, 128]     --\n",
      "│    │    │    │    │    └─InstanceNorm3d: 6-10                             [1, 1, 128, 128, 128]     --\n",
      "│    │    │    │    │    └─Dropout: 6-11                                    [1, 1, 128, 128, 128]     --\n",
      "│    │    │    │    │    └─PReLU: 6-12                                      [1, 1, 128, 128, 128]     1\n",
      "│    │    │    └─ResidualUnit: 4-5                                          [1, 1, 128, 128, 128]     --\n",
      "│    │    │    │    └─Identity: 5-8                                         [1, 1, 128, 128, 128]     --\n",
      "│    │    │    │    └─Sequential: 5-9                                       [1, 1, 128, 128, 128]     --\n",
      "│    │    │    │    │    └─Convolution: 6-13                                [1, 1, 128, 128, 128]     --\n",
      "│    │    │    │    │    │    └─Conv3d: 7-15                                [1, 1, 128, 128, 128]     28\n",
      "=============================================================================================================================\n",
      "Total params: 4,464,870\n",
      "Trainable params: 4,464,870\n",
      "Non-trainable params: 0\n",
      "Total mult-adds (G): 357.30\n",
      "=============================================================================================================================\n",
      "Input size (MB): 8.39\n",
      "Forward/backward pass size (MB): 1761.61\n",
      "Params size (MB): 17.86\n",
      "Estimated Total Size (MB): 1787.86\n",
      "=============================================================================================================================\n"
     ]
    }
   ],
   "source": [
    "# Get model summary\n",
    "summary = qim3d.ml.model_summary(model, train_loader)\n",
    "print(summary)"
   ]
  },
  {
   "cell_type": "markdown",
   "metadata": {},
   "source": [
    "### **3. Train model**"
   ]
  },
  {
   "cell_type": "markdown",
   "metadata": {},
   "source": [
    "After generating and preparing the dataset, and defining the 3D UNet model, we are ready to train the model on the data. During the training process, the model iteratively learns from the training data by adjusting its weights to minimize the difference between its predictions and the actual targets (ground truth labels). This involves feeding the input volumes through the model, calculating the loss based on the difference between the predicted and ground truth labels, and using backpropagation to update the model weights. Over multiple epochs, the model improves its ability to accurately segment the structures of interest in the 3D volumes.\n"
   ]
  },
  {
   "cell_type": "markdown",
   "metadata": {},
   "source": [
    "##### **3.1 Define hyperparameters**"
   ]
  },
  {
   "cell_type": "markdown",
   "metadata": {},
   "source": [
    "First, the hyperparameters for the training process must be defined. These include the number of epochs, learning rate, optimizer algorithm, loss function, and other relevant parameters. Increasing the number of epochs allows the model to train more extensively on the data, potentially improving its performance, but it also makes the training process longer."
   ]
  },
  {
   "cell_type": "code",
   "execution_count": 30,
   "metadata": {},
   "outputs": [],
   "source": [
    "# Define hyperparameters\n",
    "hyperparameters = qim3d.ml.Hyperparameters(\n",
    "    model = model, \n",
    "    n_epochs = 10, \n",
    "    learning_rate = 5e-3, \n",
    "    loss_function = 'DiceCE',\n",
    "    weight_decay = 1e-3,\n",
    "    )"
   ]
  },
  {
   "cell_type": "markdown",
   "metadata": {},
   "source": [
    "##### **3.2 Train model**"
   ]
  },
  {
   "cell_type": "markdown",
   "metadata": {},
   "source": [
    "The model can now be trained on the training data using the specified hyperparameters. The training process is displayed as a progress bar, indicating the completion status of the specified number of epochs. After training, if `plot = True`, a plot showing the training and validation loss curves is displayed, showing how the loss decreases over the epochs as the model adjusts its weights to improve prediction accuracy.\n",
    "\n",
    "The `checkpoint_directory` parameter allows you to save the weights of the fully trained model as a `.pth` file, enabling you to load the model later without needing to retrain it. The `qim3d.ml.load_checkpoint` function can be used to load a saved checkpoint into the model."
   ]
  },
  {
   "cell_type": "code",
   "execution_count": 31,
   "metadata": {},
   "outputs": [
    {
     "data": {
      "application/vnd.jupyter.widget-view+json": {
       "model_id": "9ad34d5ba6d84161a4e39053d11ed457",
       "version_major": 2,
       "version_minor": 0
      },
      "text/plain": [
       "Training epochs:   0%|          | 0/10 [00:00<?, ?epoch/s]"
      ]
     },
     "metadata": {},
     "output_type": "display_data"
    },
    {
     "name": "stderr",
     "output_type": "stream",
     "text": [
      "Epoch   0, train loss: 1.4858, val loss: 1.3743\n",
      "Epoch   5, train loss: 1.1631, val loss: 1.1478\n",
      "Model checkpoint saved at: C:\\Users\\s193396\\dataset\\model_10epochs.pth\n"
     ]
    },
    {
     "data": {
      "image/png": "[encoded data removed]",
      "text/plain": [
       "<Figure size 1600x600 with 1 Axes>"
      ]
     },
     "metadata": {},
     "output_type": "display_data"
    }
   ],
   "source": [
    "# Train model\n",
    "qim3d.ml.train_model(\n",
    "    model = model, \n",
    "    hyperparameters = hyperparameters, \n",
    "    train_loader = train_loader, \n",
    "    val_loader = val_loader, \n",
    "    checkpoint_directory = base_path,\n",
    "    plot = True,\n",
    "    )"
   ]
  },
  {
   "cell_type": "markdown",
   "metadata": {},
   "source": [
    "### **4. Test model**"
   ]
  },
  {
   "cell_type": "markdown",
   "metadata": {},
   "source": [
    "After the model has been fully trained, its performance can be evaluated on the test set, which contains data that the model has not previously seen. This evaluation provides an indication of the model's generalization abilities, showing whether the model can make accurate predictions on new, unseen data."
   ]
  },
  {
   "cell_type": "code",
   "execution_count": 32,
   "metadata": {},
   "outputs": [
    {
     "name": "stdout",
     "output_type": "stream",
     "text": [
      "Ground truth label of test image:\n"
     ]
    },
    {
     "data": {
      "image/png": "[encoded data removed]",
      "text/plain": [
       "<Figure size 1000x200 with 5 Axes>"
      ]
     },
     "metadata": {},
     "output_type": "display_data"
    },
    {
     "name": "stdout",
     "output_type": "stream",
     "text": [
      "Predicted segmentation of test image:\n"
     ]
    },
    {
     "data": {
      "image/png": "[encoded data removed]",
      "text/plain": [
       "<Figure size 1000x200 with 5 Axes>"
      ]
     },
     "execution_count": 32,
     "metadata": {},
     "output_type": "execute_result"
    }
   ],
   "source": [
    "# Apply the trained model to test set\n",
    "results = qim3d.ml.test_model(\n",
    "    model = model,\n",
    "    test_set = test_set,\n",
    "    )\n",
    "\n",
    "# Get results for the first test image\n",
    "volume, target, pred = results[0]\n",
    "\n",
    "# Visualize the target segmentation (ground truth label) and the predicted segmentation\n",
    "print(f\"Ground truth label of test image:\")\n",
    "qim3d.viz.slices_grid(target, num_slices=5, display_figure=True)\n",
    "\n",
    "print(f\"Predicted segmentation of test image:\")\n",
    "qim3d.viz.slices_grid(pred, num_slices=5)"
   ]
  },
  {
   "cell_type": "markdown",
   "metadata": {},
   "source": [
    "This concludes this notebook on deep learning segmentation of volumetric images with the `qim3d` library. We have covered the entire pipeline, from generating and preparing synthetic 3D data, defining the model architecture and augmentation pipeline, to training the 3D UNet model and evaluating its performance. By following these steps, you can apply similar techniques to your own volumetric segmentation tasks, using the power of deep learning to accurately segment structures of interest in 3D data."
   ]
  }
 ],
 "metadata": {
  "kernelspec": {
   "display_name": "qim3d",
   "language": "python",
   "name": "python3"
  },
  "language_info": {
   "codemirror_mode": {
    "name": "ipython",
    "version": 3
   },
   "file_extension": ".py",
   "mimetype": "text/x-python",
   "name": "python",
   "nbconvert_exporter": "python",
   "pygments_lexer": "ipython3",
   "version": "3.10.14"
  }
 },
 "nbformat": 4,
 "nbformat_minor": 2
}
