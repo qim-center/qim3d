{
 "cells": [
  {
   "cell_type": "markdown",
   "metadata": {},
   "source": [
    "# **Deep Learning Volume Segmentation (3D UNet)**\n",
    "\n",
    "Authors: Anna Ekner (s193396@dtu.dk)\n",
    "\n",
    "This notebook demonstrates how to build a comprehensive deep learning segmentation pipeline solely using the `qim3d` library. Specifically, it highlights the use of the synthetic data generation functionalities to create a volumetric dataset with associated labels, and walks through the process of creating and training a 3D UNet model using this synthetic dataset."
   ]
  },
  {
   "cell_type": "code",
   "execution_count": 1,
   "metadata": {},
   "outputs": [],
   "source": [
    "import qim3d\n",
    "import os"
   ]
  },
  {
   "cell_type": "markdown",
   "metadata": {},
   "source": [
    "### **1. Generate synthetic dataset**"
   ]
  },
  {
   "cell_type": "markdown",
   "metadata": {},
   "source": [
    "The `qim3d` library provides methods for generating 3D synthetic data and corresponding masks through the `qim3d.generate` module, which can be used to train segmentation models. This notebook is designed to demonstrate the segmentation pipeline, and the synthetic dataset can be replaced with any dataset suitable for the specific segmentation task. It is important to note that, for training a deep learning model, the dataset must include both 1) raw 3D volumes, and 2) the corresponding 3D masks where the structures of interest have been segmented (i.e. ground truth labels)."
   ]
  },
  {
   "cell_type": "markdown",
   "metadata": {},
   "source": [
    "##### **1.1 Create dataset folder structure**"
   ]
  },
  {
   "cell_type": "markdown",
   "metadata": {},
   "source": [
    "The functions that prepare the data for model training expects files to follow this structure:\n",
    "\n",
    "<pre>\n",
    "dataset\n",
    "├── train\n",
    "│   ├── images\n",
    "│   │   ├── 1\n",
    "│   │   ├── 2\n",
    "│   │   └── (...)\n",
    "│   └── labels\n",
    "│       ├── 1\n",
    "│       ├── 2\n",
    "│       └── (...)\n",
    "└── test\n",
    "    ├── images\n",
    "    │   ├── 3\n",
    "    │   └── (...)\n",
    "    └── labels\n",
    "        ├── 3\n",
    "        └── (...)\n",
    "</pre>\n",
    "\n",
    "The first step is therefore to create these directories, such that the data can be placed there. "
   ]
  },
  {
   "cell_type": "code",
   "execution_count": 2,
   "metadata": {},
   "outputs": [
    {
     "name": "stdout",
     "output_type": "stream",
     "text": [
      "Dataset directory: /home/fima/qim3d-unet-dataset\n"
     ]
    }
   ],
   "source": [
    "# Base path for the dataset directory\n",
    "base_path = os.path.join(os.path.expanduser(\"~\"), \"qim3d-unet-dataset\")\n",
    "print(f\"Dataset directory: {base_path}\")\n",
    "\n",
    "# Option to remove already existing files in the dataset directory\n",
    "clean_files = True"
   ]
  },
  {
   "cell_type": "code",
   "execution_count": 3,
   "metadata": {},
   "outputs": [
    {
     "name": "stdout",
     "output_type": "stream",
     "text": [
      "Creating directories:\n",
      "/home/fima/qim3d-unet-dataset/train/images\n",
      "/home/fima/qim3d-unet-dataset/train/labels\n",
      "/home/fima/qim3d-unet-dataset/test/images\n",
      "/home/fima/qim3d-unet-dataset/test/labels\n"
     ]
    }
   ],
   "source": [
    "# Create directories\n",
    "print(\"Creating directories:\")\n",
    "\n",
    "for folder_split in [\"train\", \"test\"]:\n",
    "    for folder_type in [\"images\", \"labels\"]:\n",
    "        \n",
    "        path = os.path.join(base_path, folder_split, folder_type)\n",
    "        os.makedirs(path, exist_ok=True)\n",
    "        print(path)\n",
    "\n",
    "if clean_files:\n",
    "    for root, dirs, files in os.walk(base_path):\n",
    "        for file in files:\n",
    "            file_path = os.path.join(root, file)\n",
    "            os.remove(file_path)"
   ]
  },
  {
   "cell_type": "markdown",
   "metadata": {},
   "source": [
    "##### **1.2 Create synthetic data for the dataset**"
   ]
  },
  {
   "cell_type": "markdown",
   "metadata": {},
   "source": [
    "Synthetic data can be generated using the `qim3d.generate` module. In this example, multiple synthetic volumes and their corresponding labels are created. Each volume contains several objects, which represent the structures of interest to be segmented.\n",
    "\n",
    "The dataset must include at least two training samples (one for training and one for validation) and one test sample. Increasing the amount of data will improve the model's ability to generalize."
   ]
  },
  {
   "cell_type": "code",
   "execution_count": 4,
   "metadata": {},
   "outputs": [],
   "source": [
    "# Specify the number of training and testing samples\n",
    "num_train = 5\n",
    "num_test = 1"
   ]
  },
  {
   "cell_type": "code",
   "execution_count": 5,
   "metadata": {},
   "outputs": [
    {
     "name": "stdout",
     "output_type": "stream",
     "text": [
      "Generating 5 training and 1 testing samples with 10 objects each:\n"
     ]
    },
    {
     "data": {
      "application/vnd.jupyter.widget-view+json": {
       "model_id": "aa3c93eaf9ee468eabe7a8687e29cd44",
       "version_major": 2,
       "version_minor": 0
      },
      "text/plain": [
       "Objects placed:   0%|          | 0/10 [00:00<?, ?it/s]"
      ]
     },
     "metadata": {},
     "output_type": "display_data"
    },
    {
     "data": {
      "application/vnd.jupyter.widget-view+json": {
       "model_id": "f2c277778a38454ea30e54fb44a02b89",
       "version_major": 2,
       "version_minor": 0
      },
      "text/plain": [
       "Objects placed:   0%|          | 0/10 [00:00<?, ?it/s]"
      ]
     },
     "metadata": {},
     "output_type": "display_data"
    },
    {
     "data": {
      "application/vnd.jupyter.widget-view+json": {
       "model_id": "a1e0f5ebeab64ca0b2a040713a274954",
       "version_major": 2,
       "version_minor": 0
      },
      "text/plain": [
       "Objects placed:   0%|          | 0/10 [00:00<?, ?it/s]"
      ]
     },
     "metadata": {},
     "output_type": "display_data"
    },
    {
     "data": {
      "application/vnd.jupyter.widget-view+json": {
       "model_id": "9e9deefc9ef549ee9eb61ff8d64aed0a",
       "version_major": 2,
       "version_minor": 0
      },
      "text/plain": [
       "Objects placed:   0%|          | 0/10 [00:00<?, ?it/s]"
      ]
     },
     "metadata": {},
     "output_type": "display_data"
    },
    {
     "data": {
      "application/vnd.jupyter.widget-view+json": {
       "model_id": "6b141bc225f8472a913f9efb6556ecbf",
       "version_major": 2,
       "version_minor": 0
      },
      "text/plain": [
       "Objects placed:   0%|          | 0/10 [00:00<?, ?it/s]"
      ]
     },
     "metadata": {},
     "output_type": "display_data"
    },
    {
     "data": {
      "application/vnd.jupyter.widget-view+json": {
       "model_id": "b958a4fad8054c93934f79233212102b",
       "version_major": 2,
       "version_minor": 0
      },
      "text/plain": [
       "Objects placed:   0%|          | 0/10 [00:00<?, ?it/s]"
      ]
     },
     "metadata": {},
     "output_type": "display_data"
    }
   ],
   "source": [
    "# Specify the number of objects in each collection volume\n",
    "num_volumes = 10\n",
    "\n",
    "# Generate training and testing samples\n",
    "print(f\"Generating {num_train} training and {num_test} testing samples with {num_volumes} objects each:\")\n",
    "\n",
    "for idx in range(num_train + num_test):\n",
    "\n",
    "    # Determine the folder split (train or test)\n",
    "    if idx < num_train:\n",
    "        folder_split = \"train\"\n",
    "\n",
    "    else:\n",
    "        folder_split = \"test\"\n",
    "\n",
    "    vol, label = qim3d.generate.volume_collection(\n",
    "        num_volumes=num_volumes,\n",
    "        collection_shape=(128, 128, 128),\n",
    "        min_shape = (30, 30, 30),\n",
    "        max_shape = (40, 40, 40),\n",
    "        min_volume_noise=0.04,\n",
    "        max_volume_noise=0.08,\n",
    "    )\n",
    "\n",
    "    # Convert N + 1 labels (each object and background) into 2 labels (any object and background)\n",
    "    label = (label > 0).astype(int)\n",
    "\n",
    "    # Save volume\n",
    "    qim3d.io.save(os.path.join(base_path, folder_split, \"images\", f\"{idx + 1}.tif\"), vol, compression = False, replace = True)\n",
    "\n",
    "    # Save label\n",
    "    qim3d.io.save(os.path.join(base_path, folder_split, \"labels\", f\"{idx + 1}.tif\"), label, compression = False, replace = True)"
   ]
  },
  {
   "cell_type": "markdown",
   "metadata": {},
   "source": [
    "Now that the data has been generated and saved, we can verify that the dataset directory contains the images and labels."
   ]
  },
  {
   "cell_type": "code",
   "execution_count": 6,
   "metadata": {},
   "outputs": [
    {
     "name": "stdout",
     "output_type": "stream",
     "text": [
      "Image indices for training data.....: [2, 1, 4, 5, 3]\n",
      "Image indices for testing data......: [6]\n"
     ]
    }
   ],
   "source": [
    "# Check the image indices for training and testing data\n",
    "for folder_split in [\"train\", \"test\"]:\n",
    "\n",
    "    path = os.path.join(base_path, folder_split, \"images\")\n",
    "    files = os.listdir(path)\n",
    "    files = [int(os.path.basename(f)[0]) for f in files]\n",
    "\n",
    "    if folder_split == \"train\":\n",
    "        print(f\"Image indices for training data.....: {files}\")\n",
    "    \n",
    "    elif folder_split == \"test\":\n",
    "        print(f\"Image indices for testing data......: {files}\")\n"
   ]
  },
  {
   "cell_type": "markdown",
   "metadata": {},
   "source": [
    "##### **1.3 Visualize synthetic data**"
   ]
  },
  {
   "cell_type": "markdown",
   "metadata": {},
   "source": [
    "To examine the synthetic volumes and their corresponding labels, we load and visualize one of the samples."
   ]
  },
  {
   "cell_type": "code",
   "execution_count": 7,
   "metadata": {},
   "outputs": [],
   "source": [
    "# Load volume\n",
    "volume = qim3d.io.load(os.path.join(base_path, \"train\", \"images\", \"1.tif\"))\n",
    "label = qim3d.io.load(os.path.join(base_path, \"train\", \"labels\", \"1.tif\"))"
   ]
  },
  {
   "cell_type": "code",
   "execution_count": 8,
   "metadata": {},
   "outputs": [
    {
     "data": {
      "application/vnd.jupyter.widget-view+json": {
       "model_id": "4907a0f2cef84db3af406e31f473484b",
       "version_major": 2,
       "version_minor": 0
      },
      "text/plain": [
       "Output()"
      ]
     },
     "metadata": {},
     "output_type": "display_data"
    }
   ],
   "source": [
    "# Visualize volume\n",
    "qim3d.viz.volumetric(vol)"
   ]
  },
  {
   "cell_type": "code",
   "execution_count": 9,
   "metadata": {},
   "outputs": [
    {
     "name": "stdout",
     "output_type": "stream",
     "text": [
      "Slices of raw volume:\n"
     ]
    },
    {
     "data": {
      "image/png": "[encoded data removed]",
      "text/plain": [
       "<Figure size 1000x200 with 5 Axes>"
      ]
     },
     "metadata": {},
     "output_type": "display_data"
    },
    {
     "name": "stdout",
     "output_type": "stream",
     "text": [
      "Slices of associated ground truth label:\n"
     ]
    },
    {
     "data": {
      "image/png": "[encoded data removed]",
      "text/plain": [
       "<Figure size 1000x200 with 5 Axes>"
      ]
     },
     "execution_count": 9,
     "metadata": {},
     "output_type": "execute_result"
    }
   ],
   "source": [
    "# Visualize slices of volume and label\n",
    "print(f\"Slices of raw volume:\")\n",
    "qim3d.viz.slices_grid(volume, num_slices = 5, display_figure = True)\n",
    "\n",
    "print(f\"Slices of associated ground truth label:\")\n",
    "qim3d.viz.slices_grid(label, num_slices=5)"
   ]
  },
  {
   "cell_type": "markdown",
   "metadata": {},
   "source": [
    "### **2. Build 3D UNet model**"
   ]
  },
  {
   "cell_type": "markdown",
   "metadata": {},
   "source": [
    "The `qim3d` library offers a collection of pre-built deep learning models, including a 3D UNet model for segmentation. The 3D UNet model operates directly on 3D data, leveraging the volumetric structure of the data to learn complex features."
   ]
  },
  {
   "cell_type": "markdown",
   "metadata": {},
   "source": [
    "##### **2.1 Define model architecture**"
   ]
  },
  {
   "cell_type": "markdown",
   "metadata": {},
   "source": [
    "Instead of specifying the model architecture from scratch, the `qim3d` library enables automatic configuration based on a specified sizes:\n",
    "    \n",
    "    - 'xxsmall'....: (4,8) -> 2 layers\n",
    "    - 'xsmall'.....: (16,32) -> 2 layers\n",
    "    - 'small'......: (32, 64, 128) -> 3 layers\n",
    "    - 'medium'.....: (64, 128, 256) -> 3 layers\n",
    "    - 'large'......: (64, 128, 256, 512, 1024) -> 5 layers\n",
    "    - 'xlarge'.....: (64, 128, 256, 512, 1024, 2048) -> 6 layers\n",
    "    - 'xxlarge'....: (64, 128, 256, 512, 1024, 2048, 4096) -> 7 layers\n",
    "    \n",
    "\n",
    "Additionally, you can customize parameters such as dropout rate, activation function, and convolution kernel size when defining the model architecture."
   ]
  },
  {
   "cell_type": "code",
   "execution_count": 10,
   "metadata": {},
   "outputs": [],
   "source": [
    "# Define the 3D UNet model\n",
    "model = qim3d.ml.models.UNet(size = 'xxsmall')"
   ]
  },
  {
   "cell_type": "markdown",
   "metadata": {},
   "source": [
    "##### **2.2 Define data augmentations**"
   ]
  },
  {
   "cell_type": "markdown",
   "metadata": {},
   "source": [
    "Data augmentation is a technique used to artificially increase the training set by applying various transformations (such as rotation, flipping, or cropping) to the existing data. The goal is to increase the diversity of the training set with these random (but realistic) augmentations, thus making the model more robust to subtle variations in the data.\n",
    "\n",
    "The `qim3d` library provides a convenient way to apply pre-defined augmentation sets to the dataset splits, based on a specified level of augmentation (*light*, *moderate*, or *heavy*)."
   ]
  },
  {
   "cell_type": "code",
   "execution_count": 11,
   "metadata": {},
   "outputs": [],
   "source": [
    "# Define augmentation\n",
    "augmentation =  qim3d.ml.Augmentation(\n",
    "    resize = 'crop', \n",
    "    transform_train = 'light',\n",
    "    transform_validation = None,\n",
    "    transform_test = None,\n",
    "    )"
   ]
  },
  {
   "cell_type": "markdown",
   "metadata": {},
   "source": [
    "##### **2.3 Prepare dataset splits and apply augmentations**"
   ]
  },
  {
   "cell_type": "markdown",
   "metadata": {},
   "source": [
    "With the model architecture and augmentation pipeline defined, we are now ready to prepare the dataset. The dataset is divided into three subsets:\n",
    "\n",
    "- Training set\n",
    "- Validation set\n",
    "- Test set\n",
    "\n",
    "We have previously specified the number of samples for the training and test sets. The validation set is created by allocating a portion of the training set, as specified by the `val_fraction` parameter. The model is trained on the training set, evaluated during training on the validation set, and finally assessed on the unseen test set. Each subset is prepared by applying the corresponding augmentations defined in the previous step to the data samples within that subset."
   ]
  },
  {
   "cell_type": "code",
   "execution_count": 12,
   "metadata": {},
   "outputs": [],
   "source": [
    "# Define dataset splits\n",
    "train_set, val_set, test_set = qim3d.ml.prepare_datasets(\n",
    "    path = base_path,\n",
    "    val_fraction = 0.2,\n",
    "    model = model,\n",
    "    augmentation = augmentation\n",
    "    )"
   ]
  },
  {
   "cell_type": "markdown",
   "metadata": {},
   "source": [
    "To ensure compatibility with `PyTorch`, a dataloader is prepared for each dataset split. The batch size, which specifies the number of training samples grouped together during model training, is also defined at this step."
   ]
  },
  {
   "cell_type": "code",
   "execution_count": 13,
   "metadata": {},
   "outputs": [],
   "source": [
    "# Define data loaders\n",
    "train_loader, val_loader, test_loader = qim3d.ml.prepare_dataloaders(\n",
    "    train_set = train_set, \n",
    "    val_set = val_set,\n",
    "    test_set = test_set,\n",
    "    batch_size = 1,\n",
    "    num_workers = 0, \n",
    "    )"
   ]
  },
  {
   "cell_type": "markdown",
   "metadata": {},
   "source": [
    "##### **2.4 Verify model summary**"
   ]
  },
  {
   "cell_type": "markdown",
   "metadata": {},
   "source": [
    "You can also obtain a summary of the model architecture to verify the model configuration. This summary provides detailed information about each layer in the model, including the layer types, output shapes, and the number of parameters. Reviewing the model summary helps ensure that the architecture is correctly defined and meets the requirements of your specific task."
   ]
  },
  {
   "cell_type": "code",
   "execution_count": 14,
   "metadata": {},
   "outputs": [
    {
     "name": "stdout",
     "output_type": "stream",
     "text": [
      "==============================================================================================================\n",
      "Layer (type:depth-idx)                                       Output Shape              Param #\n",
      "==============================================================================================================\n",
      "UNet                                                         [1, 1, 128, 128, 128]     --\n",
      "├─UNet: 1-1                                                  [1, 1, 128, 128, 128]     --\n",
      "│    └─Sequential: 2-1                                       [1, 1, 128, 128, 128]     --\n",
      "│    │    └─ResidualUnit: 3-1                                [1, 4, 64, 64, 64]        --\n",
      "│    │    │    └─Conv3d: 4-1                                 [1, 4, 64, 64, 64]        112\n",
      "│    │    │    └─Sequential: 4-2                             [1, 4, 64, 64, 64]        --\n",
      "│    │    │    │    └─Convolution: 5-1                       [1, 4, 64, 64, 64]        --\n",
      "│    │    │    │    │    └─Conv3d: 6-1                       [1, 4, 64, 64, 64]        112\n",
      "│    │    │    │    │    └─ADN: 6-2                          [1, 4, 64, 64, 64]        --\n",
      "│    │    │    │    │    │    └─InstanceNorm3d: 7-1          [1, 4, 64, 64, 64]        --\n",
      "│    │    │    │    │    │    └─Dropout: 7-2                 [1, 4, 64, 64, 64]        --\n",
      "│    │    │    │    │    │    └─PReLU: 7-3                   [1, 4, 64, 64, 64]        1\n",
      "│    │    │    │    └─Convolution: 5-2                       [1, 4, 64, 64, 64]        --\n",
      "│    │    │    │    │    └─Conv3d: 6-3                       [1, 4, 64, 64, 64]        436\n",
      "│    │    │    │    │    └─ADN: 6-4                          [1, 4, 64, 64, 64]        --\n",
      "│    │    │    │    │    │    └─InstanceNorm3d: 7-4          [1, 4, 64, 64, 64]        --\n",
      "│    │    │    │    │    │    └─Dropout: 7-5                 [1, 4, 64, 64, 64]        --\n",
      "│    │    │    │    │    │    └─PReLU: 7-6                   [1, 4, 64, 64, 64]        1\n",
      "│    │    └─SkipConnection: 3-2                              [1, 12, 64, 64, 64]       --\n",
      "│    │    │    └─ResidualUnit: 4-3                           [1, 8, 64, 64, 64]        --\n",
      "│    │    │    │    └─Conv3d: 5-3                            [1, 8, 64, 64, 64]        40\n",
      "│    │    │    │    └─Sequential: 5-4                        [1, 8, 64, 64, 64]        --\n",
      "│    │    │    │    │    └─Convolution: 6-5                  [1, 8, 64, 64, 64]        --\n",
      "│    │    │    │    │    │    └─Conv3d: 7-7                  [1, 8, 64, 64, 64]        872\n",
      "│    │    │    │    │    │    └─ADN: 7-8                     [1, 8, 64, 64, 64]        --\n",
      "│    │    │    │    │    │    │    └─InstanceNorm3d: 8-1     [1, 8, 64, 64, 64]        --\n",
      "│    │    │    │    │    │    │    └─Dropout: 8-2            [1, 8, 64, 64, 64]        --\n",
      "│    │    │    │    │    │    │    └─PReLU: 8-3              [1, 8, 64, 64, 64]        1\n",
      "│    │    │    │    │    └─Convolution: 6-6                  [1, 8, 64, 64, 64]        --\n",
      "│    │    │    │    │    │    └─Conv3d: 7-9                  [1, 8, 64, 64, 64]        1,736\n",
      "│    │    │    │    │    │    └─ADN: 7-10                    [1, 8, 64, 64, 64]        --\n",
      "│    │    │    │    │    │    │    └─InstanceNorm3d: 8-4     [1, 8, 64, 64, 64]        --\n",
      "│    │    │    │    │    │    │    └─Dropout: 8-5            [1, 8, 64, 64, 64]        --\n",
      "│    │    │    │    │    │    │    └─PReLU: 8-6              [1, 8, 64, 64, 64]        1\n",
      "│    │    └─Sequential: 3-3                                  [1, 1, 128, 128, 128]     --\n",
      "│    │    │    └─Convolution: 4-4                            [1, 1, 128, 128, 128]     --\n",
      "│    │    │    │    └─ConvTranspose3d: 5-5                   [1, 1, 128, 128, 128]     325\n",
      "│    │    │    │    └─ADN: 5-6                               [1, 1, 128, 128, 128]     --\n",
      "│    │    │    │    │    └─InstanceNorm3d: 6-7               [1, 1, 128, 128, 128]     --\n",
      "│    │    │    │    │    └─Dropout: 6-8                      [1, 1, 128, 128, 128]     --\n",
      "│    │    │    │    │    └─PReLU: 6-9                        [1, 1, 128, 128, 128]     1\n",
      "│    │    │    └─ResidualUnit: 4-5                           [1, 1, 128, 128, 128]     --\n",
      "│    │    │    │    └─Identity: 5-7                          [1, 1, 128, 128, 128]     --\n",
      "│    │    │    │    └─Sequential: 5-8                        [1, 1, 128, 128, 128]     --\n",
      "│    │    │    │    │    └─Convolution: 6-10                 [1, 1, 128, 128, 128]     --\n",
      "│    │    │    │    │    │    └─Conv3d: 7-11                 [1, 1, 128, 128, 128]     28\n",
      "==============================================================================================================\n",
      "Total params: 3,666\n",
      "Trainable params: 3,666\n",
      "Non-trainable params: 0\n",
      "Total mult-adds (Units.GIGABYTES): 1.61\n",
      "==============================================================================================================\n",
      "Input size (MB): 8.39\n",
      "Forward/backward pass size (MB): 176.16\n",
      "Params size (MB): 0.01\n",
      "Estimated Total Size (MB): 184.56\n",
      "==============================================================================================================\n"
     ]
    }
   ],
   "source": [
    "# Get model summary\n",
    "summary = qim3d.ml.model_summary(model, train_loader)\n",
    "print(summary)"
   ]
  },
  {
   "cell_type": "markdown",
   "metadata": {},
   "source": [
    "### **3. Train model**"
   ]
  },
  {
   "cell_type": "markdown",
   "metadata": {},
   "source": [
    "After generating and preparing the dataset, and defining the 3D UNet model, we are ready to train the model on the data. During the training process, the model iteratively learns from the training data by adjusting its weights to minimize the difference between its predictions and the actual targets (ground truth labels). This involves feeding the input volumes through the model, calculating the loss based on the difference between the predicted and ground truth labels, and using backpropagation to update the model weights. Over multiple epochs, the model improves its ability to accurately segment the structures of interest in the 3D volumes.\n"
   ]
  },
  {
   "cell_type": "markdown",
   "metadata": {},
   "source": [
    "##### **3.1 Define hyperparameters**"
   ]
  },
  {
   "cell_type": "markdown",
   "metadata": {},
   "source": [
    "First, the hyperparameters for the training process must be defined. These include the number of epochs, learning rate, optimizer algorithm, loss function, and other relevant parameters. Increasing the number of epochs allows the model to train more extensively on the data, potentially improving its performance, but it also makes the training process longer."
   ]
  },
  {
   "cell_type": "code",
   "execution_count": 15,
   "metadata": {},
   "outputs": [],
   "source": [
    "# Define hyperparameters\n",
    "hyperparameters = qim3d.ml.Hyperparameters(\n",
    "    model = model, \n",
    "    n_epochs = 30, \n",
    "    learning_rate = 1e-2, \n",
    "    loss_function = 'DiceCE',\n",
    "    weight_decay = 1e-3,\n",
    "    )"
   ]
  },
  {
   "cell_type": "markdown",
   "metadata": {},
   "source": [
    "##### **3.2 Train model**"
   ]
  },
  {
   "cell_type": "markdown",
   "metadata": {},
   "source": [
    "The model can now be trained on the training data using the specified hyperparameters. The training process is displayed as a progress bar, indicating the completion status of the specified number of epochs. After training, if `plot = True`, a plot showing the training and validation loss curves is displayed, showing how the loss decreases over the epochs as the model adjusts its weights to improve prediction accuracy.\n",
    "\n",
    "The `checkpoint_directory` parameter allows you to save the weights of the fully trained model as a `.pth` file, enabling you to load the learned configuration of the trained model later without needing to retrain the model. The `qim3d.ml.load_checkpoint` function can be used to load a saved checkpoint into the model."
   ]
  },
  {
   "cell_type": "code",
   "execution_count": 16,
   "metadata": {},
   "outputs": [
    {
     "data": {
      "application/vnd.jupyter.widget-view+json": {
       "model_id": "d700b758424b4094b590c1a4297048fa",
       "version_major": 2,
       "version_minor": 0
      },
      "text/plain": [
       "Training epochs:   0%|          | 0/30 [00:00<?, ?epoch/s]"
      ]
     },
     "metadata": {},
     "output_type": "display_data"
    },
    {
     "name": "stderr",
     "output_type": "stream",
     "text": [
      "Epoch   0, train loss: 0.8195, val loss: 0.8028\n",
      "Epoch   1, train loss: 0.7987, val loss: 0.7919\n",
      "Epoch   2, train loss: 0.7873, val loss: 0.7791\n",
      "Epoch   3, train loss: 0.7732, val loss: 0.7624\n",
      "Epoch   4, train loss: 0.7547, val loss: 0.7407\n",
      "Epoch   5, train loss: 0.7305, val loss: 0.7120\n",
      "Epoch   6, train loss: 0.6986, val loss: 0.6743\n",
      "Epoch   7, train loss: 0.6569, val loss: 0.6255\n",
      "Epoch   8, train loss: 0.6037, val loss: 0.5652\n",
      "Epoch   9, train loss: 0.5395, val loss: 0.4954\n",
      "Epoch  10, train loss: 0.4675, val loss: 0.4206\n",
      "Epoch  11, train loss: 0.3912, val loss: 0.3463\n",
      "Epoch  12, train loss: 0.3196, val loss: 0.2770\n",
      "Epoch  13, train loss: 0.2542, val loss: 0.2194\n",
      "Epoch  14, train loss: 0.1998, val loss: 0.1689\n",
      "Epoch  15, train loss: 0.1542, val loss: 0.1313\n",
      "Epoch  16, train loss: 0.1205, val loss: 0.1047\n",
      "Epoch  17, train loss: 0.0966, val loss: 0.0855\n",
      "Epoch  18, train loss: 0.0796, val loss: 0.0732\n",
      "Epoch  19, train loss: 0.0685, val loss: 0.0639\n",
      "Epoch  20, train loss: 0.0602, val loss: 0.0568\n",
      "Epoch  21, train loss: 0.0538, val loss: 0.0521\n",
      "Epoch  22, train loss: 0.0503, val loss: 0.0503\n",
      "Epoch  23, train loss: 0.0474, val loss: 0.0455\n",
      "Epoch  24, train loss: 0.0446, val loss: 0.0436\n",
      "Epoch  25, train loss: 0.0423, val loss: 0.0423\n",
      "Epoch  26, train loss: 0.0406, val loss: 0.0402\n",
      "Epoch  27, train loss: 0.0390, val loss: 0.0391\n",
      "Epoch  28, train loss: 0.0379, val loss: 0.0379\n",
      "Epoch  29, train loss: 0.0366, val loss: 0.0374\n",
      "Model checkpoint saved at: /home/fima/qim3d-unet-dataset/model_30epochs.pth\n"
     ]
    },
    {
     "data": {
      "image/png": "[encoded data removed]",
      "text/plain": [
       "<Figure size 1600x600 with 1 Axes>"
      ]
     },
     "metadata": {},
     "output_type": "display_data"
    }
   ],
   "source": [
    "# Train model\n",
    "qim3d.ml.train_model(\n",
    "    model = model, \n",
    "    hyperparameters = hyperparameters, \n",
    "    train_loader = train_loader, \n",
    "    val_loader = val_loader, \n",
    "    checkpoint_directory = base_path,\n",
    "    plot = True,\n",
    "    )"
   ]
  },
  {
   "cell_type": "markdown",
   "metadata": {},
   "source": [
    "### **4. Test model**"
   ]
  },
  {
   "cell_type": "markdown",
   "metadata": {},
   "source": [
    "After the model has been fully trained, its performance can be evaluated on the test set, which contains data that the model has not previously seen. This evaluation provides an indication of the model's generalization abilities, showing whether the model can make accurate predictions on new, unseen data."
   ]
  },
  {
   "cell_type": "code",
   "execution_count": 17,
   "metadata": {},
   "outputs": [
    {
     "name": "stdout",
     "output_type": "stream",
     "text": [
      "Ground truth label of test image:\n"
     ]
    },
    {
     "data": {
      "image/png": "[encoded data removed]",
      "text/plain": [
       "<Figure size 1000x200 with 5 Axes>"
      ]
     },
     "metadata": {},
     "output_type": "display_data"
    },
    {
     "name": "stdout",
     "output_type": "stream",
     "text": [
      "Predicted segmentation of test image:\n"
     ]
    },
    {
     "data": {
      "image/png": "[encoded data removed]",
      "text/plain": [
       "<Figure size 1000x200 with 5 Axes>"
      ]
     },
     "metadata": {},
     "output_type": "display_data"
    },
    {
     "name": "stdout",
     "output_type": "stream",
     "text": [
      "Difference (prediction - ground truth)\n"
     ]
    },
    {
     "data": {
      "image/png": "[encoded data removed]",
      "text/plain": [
       "<Figure size 1000x200 with 5 Axes>"
      ]
     },
     "execution_count": 17,
     "metadata": {},
     "output_type": "execute_result"
    }
   ],
   "source": [
    "# Apply the trained model to test set\n",
    "results = qim3d.ml.test_model(\n",
    "    model = model,\n",
    "    test_set = test_set,\n",
    "    )\n",
    "\n",
    "# Get results for the first test image\n",
    "volume, target, pred = results[0]\n",
    "\n",
    "# Visualize the target segmentation (ground truth label) and the predicted segmentation\n",
    "print(f\"Ground truth label of test image:\")\n",
    "qim3d.viz.slices_grid(target, num_slices=5, display_figure=True)\n",
    "\n",
    "print(f\"Predicted segmentation of test image:\")\n",
    "qim3d.viz.slices_grid(pred, num_slices=5, display_figure=True)\n",
    "\n",
    "print(f\"Difference (prediction - ground truth)\")\n",
    "qim3d.viz.slices_grid(pred-target, num_slices=5, value_min=-1, value_max=1, color_map=\"coolwarm\")\n"
   ]
  },
  {
   "cell_type": "markdown",
   "metadata": {},
   "source": [
    "This concludes this notebook on deep learning segmentation of volumetric images with the `qim3d` library. We have covered the entire pipeline, from generating and preparing synthetic 3D data, defining the model architecture and augmentation pipeline, to training the 3D UNet model and evaluating its performance. By following these steps, you can apply similar techniques to your own volumetric segmentation tasks, using the power of deep learning to accurately segment structures of interest in 3D data."
   ]
  }
 ],
 "metadata": {
  "kernelspec": {
   "display_name": "Python 3 (ipykernel)",
   "language": "python",
   "name": "python3"
  },
  "language_info": {
   "codemirror_mode": {
    "name": "ipython",
    "version": 3
   },
   "file_extension": ".py",
   "mimetype": "text/x-python",
   "name": "python",
   "nbconvert_exporter": "python",
   "pygments_lexer": "ipython3",
   "version": "3.11.5"
  }
 },
 "nbformat": 4,
 "nbformat_minor": 4
}
