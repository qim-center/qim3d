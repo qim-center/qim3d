{
 "cells": [
  {
   "cell_type": "code",
   "execution_count": 1,
   "metadata": {},
   "outputs": [],
   "source": [
    "import qim3d\n",
    "import qim3d.filters as filters\n",
    "import numpy as np\n",
    "from scipy import ndimage"
   ]
  },
  {
   "cell_type": "markdown",
   "metadata": {},
   "source": [
    "# Filters detection notebook"
   ]
  },
  {
   "cell_type": "markdown",
   "metadata": {},
   "source": [
    "This notebook shows how to do apply filers on a 3D volume using the `qim3d` library. There are multiple ways to apply the filters, as demonstrated below.\n",
    "\n",
    "Firstly, we load the volume of a fly"
   ]
  },
  {
   "cell_type": "code",
   "execution_count": 2,
   "metadata": {},
   "outputs": [],
   "source": [
    "# Loading of a volume\n",
    "vol = qim3d.examples.fly_150x256x256"
   ]
  },
  {
   "cell_type": "markdown",
   "metadata": {},
   "source": [
    "### Using filters directly\n",
    "The filters can be applied directly to a volume:"
   ]
  },
  {
   "cell_type": "code",
   "execution_count": null,
   "metadata": {},
   "outputs": [],
   "source": [
    "### Gaussian filter\n",
    "vol_gauss1 = filters.gaussian(vol, 3)\n",
    "# or\n",
    "vol_gauss2 = filters.gaussian(vol, sigma=3)\n",
    "\n",
    "### Median filter\n",
    "vol_median = filters.median(vol,size=5)"
   ]
  },
  {
   "cell_type": "markdown",
   "metadata": {},
   "source": [
    "### Using filter classes\n",
    "If needed, the filter can be defined as a class and afterwards applied to the image"
   ]
  },
  {
   "cell_type": "code",
   "execution_count": 13,
   "metadata": {},
   "outputs": [],
   "source": [
    "gaussian_fn = filters.Gaussian(sigma=3)\n",
    "vol_gauss2 = gaussian_fn(vol)"
   ]
  },
  {
   "cell_type": "markdown",
   "metadata": {},
   "source": [
    "### Using filter classes to construct a pipeline of filters\n",
    "If multiple filters are needed, a pipeline can be created, that uses multiple filters in a given order:"
   ]
  },
  {
   "cell_type": "code",
   "execution_count": 15,
   "metadata": {},
   "outputs": [],
   "source": [
    "pipeline = filters.Pipeline(\n",
    "    filters.Gaussian(sigma=3),\n",
    "    filters.Median(size=10))\n",
    "out_seq = pipeline(vol)"
   ]
  },
  {
   "cell_type": "markdown",
   "metadata": {},
   "source": [
    "Filter functions can also be appended to the sequence after defining the class instance:"
   ]
  },
  {
   "cell_type": "code",
   "execution_count": 17,
   "metadata": {},
   "outputs": [],
   "source": [
    "pipeline.append(filters.Maximum(size=5))\n",
    "out_seq2 = pipeline(vol)"
   ]
  },
  {
   "cell_type": "markdown",
   "metadata": {},
   "source": [
    "In order to evaluate the filters in a pipeline, they can be printed by accessing the `filters` dictionary:"
   ]
  },
  {
   "cell_type": "code",
   "execution_count": 18,
   "metadata": {},
   "outputs": [
    {
     "name": "stdout",
     "output_type": "stream",
     "text": [
      "{'0': <qim3d.filters._common_filter_methods.Gaussian object at 0x7f9d940c7610>, '1': <qim3d.filters._common_filter_methods.Median object at 0x7f9d94169410>, '2': <qim3d.filters._common_filter_methods.Maximum object at 0x7f9d8ff2f450>}\n"
     ]
    }
   ],
   "source": [
    "print(pipeline.filters)"
   ]
  }
 ],
 "metadata": {
  "kernelspec": {
   "display_name": "qim3d-env",
   "language": "python",
   "name": "python3"
  },
  "language_info": {
   "codemirror_mode": {
    "name": "ipython",
    "version": 3
   },
   "file_extension": ".py",
   "mimetype": "text/x-python",
   "name": "python",
   "nbconvert_exporter": "python",
   "pygments_lexer": "ipython3",
   "version": "3.11.10"
  }
 },
 "nbformat": 4,
 "nbformat_minor": 2
}
