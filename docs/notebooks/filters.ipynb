{
 "cells": [
  {
   "cell_type": "code",
   "execution_count": 2,
   "metadata": {},
   "outputs": [],
   "source": [
    "import qim3d\n",
    "import qim3d.filters as filters\n",
    "import numpy as np\n",
    "from scipy import ndimage"
   ]
  },
  {
   "cell_type": "code",
   "execution_count": 3,
   "metadata": {},
   "outputs": [],
   "source": [
    "vol = qim3d.examples.fly_150x256x256"
   ]
  },
  {
   "cell_type": "markdown",
   "metadata": {},
   "source": [
    "## Using the filter functions directly"
   ]
  },
  {
   "cell_type": "code",
   "execution_count": 4,
   "metadata": {},
   "outputs": [],
   "source": [
    "### Gaussian filter\n",
    "out1_gauss = filters.gaussian(vol, sigma=3)\n",
    "\n",
    "### Median filter\n",
    "out_median = filters.median(vol, size=5)"
   ]
  },
  {
   "cell_type": "markdown",
   "metadata": {},
   "source": [
    "## Using filter classes"
   ]
  },
  {
   "cell_type": "code",
   "execution_count": 5,
   "metadata": {},
   "outputs": [],
   "source": [
    "gaussian_fn = filters.Gaussian(sigma=3)\n",
    "out3_gauss = gaussian_fn(vol)"
   ]
  },
  {
   "cell_type": "markdown",
   "metadata": {},
   "source": [
    "## Using filter classes to construct a pipeline of filters"
   ]
  },
  {
   "cell_type": "code",
   "execution_count": 6,
   "metadata": {},
   "outputs": [],
   "source": [
    "pipeline = filters.Pipeline(\n",
    "    filters.Gaussian(sigma=3),\n",
    "    filters.Median(size=10))\n",
    "out_seq = pipeline(vol)"
   ]
  },
  {
   "cell_type": "markdown",
   "metadata": {},
   "source": [
    "Filter functions can also be appended to the sequence after defining the class instance:"
   ]
  },
  {
   "cell_type": "code",
   "execution_count": 7,
   "metadata": {},
   "outputs": [],
   "source": [
    "pipeline.append(filters.Maximum(size=5))\n",
    "out_seq2 = pipeline(vol)"
   ]
  },
  {
   "cell_type": "markdown",
   "metadata": {},
   "source": [
    "The filter objects are stored in the `filters` dictionary:"
   ]
  },
  {
   "cell_type": "code",
   "execution_count": 8,
   "metadata": {},
   "outputs": [
    {
     "name": "stdout",
     "output_type": "stream",
     "text": [
      "{'0': <qim3d.filters._common_filter_methods.Gaussian object at 0x000001AB34BC5F90>, '1': <qim3d.filters._common_filter_methods.Median object at 0x000001AB34BC5FC0>, '2': <qim3d.filters._common_filter_methods.Maximum object at 0x000001AB34BC61A0>}\n"
     ]
    }
   ],
   "source": [
    "print(pipeline.filters)"
   ]
  }
 ],
 "metadata": {
  "kernelspec": {
   "display_name": "qim3d",
   "language": "python",
   "name": "python3"
  },
  "language_info": {
   "codemirror_mode": {
    "name": "ipython",
    "version": 3
   },
   "file_extension": ".py",
   "mimetype": "text/x-python",
   "name": "python",
   "nbconvert_exporter": "python",
   "pygments_lexer": "ipython3",
   "version": "3.10.14"
  }
 },
 "nbformat": 4,
 "nbformat_minor": 2
}
